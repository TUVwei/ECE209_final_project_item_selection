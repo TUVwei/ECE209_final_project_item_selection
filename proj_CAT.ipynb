{
  "nbformat": 4,
  "nbformat_minor": 0,
  "metadata": {
    "colab": {
      "name": "proj_CAT",
      "provenance": [],
      "collapsed_sections": [
        "778k4D8Bn4nJ",
        "JjVePViOoKyV",
        "58-i6spdoS61",
        "b79px0seoXzg",
        "CZM_OnKRovRC",
        "0EIuRZBRoc6o"
      ]
    },
    "kernelspec": {
      "display_name": "Python 3",
      "name": "python3"
    },
    "language_info": {
      "name": "python"
    }
  },
  "cells": [
    {
      "cell_type": "markdown",
      "metadata": {
        "id": "D5nwy5J_CiGt"
      },
      "source": [
        "# Loading"
      ]
    },
    {
      "cell_type": "code",
      "metadata": {
        "colab": {
          "base_uri": "https://localhost:8080/"
        },
        "id": "FR8QrKGRODaD",
        "outputId": "ecb1c9c5-f5be-47aa-f817-25e6fbf1610b"
      },
      "source": [
        "!pip install networkx"
      ],
      "execution_count": null,
      "outputs": [
        {
          "output_type": "stream",
          "name": "stdout",
          "text": [
            "Requirement already satisfied: networkx in /usr/local/lib/python3.7/dist-packages (2.6.3)\n"
          ]
        }
      ]
    },
    {
      "cell_type": "code",
      "metadata": {
        "colab": {
          "base_uri": "https://localhost:8080/"
        },
        "id": "UTQesN9HLVSb",
        "outputId": "a4a66e6a-c022-4e0d-9a3c-9fe74ef46250"
      },
      "source": [
        "!pip install pyro-ppl\n",
        "!pip install torch\n",
        "!pip install torch-geometric"
      ],
      "execution_count": null,
      "outputs": [
        {
          "output_type": "stream",
          "name": "stdout",
          "text": [
            "Requirement already satisfied: pyro-ppl in /usr/local/lib/python3.7/dist-packages (1.7.0)\n",
            "Requirement already satisfied: torch>=1.9.0 in /usr/local/lib/python3.7/dist-packages (from pyro-ppl) (1.10.0+cu111)\n",
            "Requirement already satisfied: opt-einsum>=2.3.2 in /usr/local/lib/python3.7/dist-packages (from pyro-ppl) (3.3.0)\n",
            "Requirement already satisfied: numpy>=1.7 in /usr/local/lib/python3.7/dist-packages (from pyro-ppl) (1.19.5)\n",
            "Requirement already satisfied: pyro-api>=0.1.1 in /usr/local/lib/python3.7/dist-packages (from pyro-ppl) (0.1.2)\n",
            "Requirement already satisfied: tqdm>=4.36 in /usr/local/lib/python3.7/dist-packages (from pyro-ppl) (4.62.3)\n",
            "Requirement already satisfied: typing-extensions in /usr/local/lib/python3.7/dist-packages (from torch>=1.9.0->pyro-ppl) (3.10.0.2)\n",
            "Requirement already satisfied: torch in /usr/local/lib/python3.7/dist-packages (1.10.0+cu111)\n",
            "Requirement already satisfied: typing-extensions in /usr/local/lib/python3.7/dist-packages (from torch) (3.10.0.2)\n",
            "Requirement already satisfied: torch-geometric in /usr/local/lib/python3.7/dist-packages (2.0.2)\n",
            "Requirement already satisfied: scipy in /usr/local/lib/python3.7/dist-packages (from torch-geometric) (1.4.1)\n",
            "Requirement already satisfied: googledrivedownloader in /usr/local/lib/python3.7/dist-packages (from torch-geometric) (0.4)\n",
            "Requirement already satisfied: yacs in /usr/local/lib/python3.7/dist-packages (from torch-geometric) (0.1.8)\n",
            "Requirement already satisfied: PyYAML in /usr/local/lib/python3.7/dist-packages (from torch-geometric) (3.13)\n",
            "Requirement already satisfied: requests in /usr/local/lib/python3.7/dist-packages (from torch-geometric) (2.23.0)\n",
            "Requirement already satisfied: tqdm in /usr/local/lib/python3.7/dist-packages (from torch-geometric) (4.62.3)\n",
            "Requirement already satisfied: pandas in /usr/local/lib/python3.7/dist-packages (from torch-geometric) (1.1.5)\n",
            "Requirement already satisfied: networkx in /usr/local/lib/python3.7/dist-packages (from torch-geometric) (2.6.3)\n",
            "Requirement already satisfied: scikit-learn in /usr/local/lib/python3.7/dist-packages (from torch-geometric) (1.0.1)\n",
            "Requirement already satisfied: rdflib in /usr/local/lib/python3.7/dist-packages (from torch-geometric) (6.0.2)\n",
            "Requirement already satisfied: pyparsing in /usr/local/lib/python3.7/dist-packages (from torch-geometric) (2.4.7)\n",
            "Requirement already satisfied: numpy in /usr/local/lib/python3.7/dist-packages (from torch-geometric) (1.19.5)\n",
            "Requirement already satisfied: jinja2 in /usr/local/lib/python3.7/dist-packages (from torch-geometric) (2.11.3)\n",
            "Requirement already satisfied: MarkupSafe>=0.23 in /usr/local/lib/python3.7/dist-packages (from jinja2->torch-geometric) (2.0.1)\n",
            "Requirement already satisfied: pytz>=2017.2 in /usr/local/lib/python3.7/dist-packages (from pandas->torch-geometric) (2018.9)\n",
            "Requirement already satisfied: python-dateutil>=2.7.3 in /usr/local/lib/python3.7/dist-packages (from pandas->torch-geometric) (2.8.2)\n",
            "Requirement already satisfied: six>=1.5 in /usr/local/lib/python3.7/dist-packages (from python-dateutil>=2.7.3->pandas->torch-geometric) (1.15.0)\n",
            "Requirement already satisfied: isodate in /usr/local/lib/python3.7/dist-packages (from rdflib->torch-geometric) (0.6.0)\n",
            "Requirement already satisfied: setuptools in /usr/local/lib/python3.7/dist-packages (from rdflib->torch-geometric) (57.4.0)\n",
            "Requirement already satisfied: urllib3!=1.25.0,!=1.25.1,<1.26,>=1.21.1 in /usr/local/lib/python3.7/dist-packages (from requests->torch-geometric) (1.24.3)\n",
            "Requirement already satisfied: certifi>=2017.4.17 in /usr/local/lib/python3.7/dist-packages (from requests->torch-geometric) (2021.10.8)\n",
            "Requirement already satisfied: idna<3,>=2.5 in /usr/local/lib/python3.7/dist-packages (from requests->torch-geometric) (2.10)\n",
            "Requirement already satisfied: chardet<4,>=3.0.2 in /usr/local/lib/python3.7/dist-packages (from requests->torch-geometric) (3.0.4)\n",
            "Requirement already satisfied: joblib>=0.11 in /usr/local/lib/python3.7/dist-packages (from scikit-learn->torch-geometric) (1.1.0)\n",
            "Requirement already satisfied: threadpoolctl>=2.0.0 in /usr/local/lib/python3.7/dist-packages (from scikit-learn->torch-geometric) (3.0.0)\n"
          ]
        }
      ]
    },
    {
      "cell_type": "code",
      "metadata": {
        "id": "jeo8nMXSCdR9"
      },
      "source": [
        "import numpy as np\n",
        "import matplotlib.pyplot as plt\n",
        "import pandas as pd\n",
        "import networkx as nx\n",
        "\n",
        "from networkx.generators.random_graphs import random_powerlaw_tree\n",
        "from networkx.linalg.graphmatrix import adjacency_matrix"
      ],
      "execution_count": null,
      "outputs": []
    },
    {
      "cell_type": "markdown",
      "metadata": {
        "id": "lEPH4_Nutil8"
      },
      "source": [
        "# GCN"
      ]
    },
    {
      "cell_type": "markdown",
      "metadata": {
        "id": "xGJDD6yYLNU6"
      },
      "source": [
        "## Env"
      ]
    },
    {
      "cell_type": "code",
      "metadata": {
        "id": "_iCr9FdMuhAA"
      },
      "source": [
        "import numpy as np\n",
        "import matplotlib.pyplot as plt\n",
        "import pandas as pd\n",
        "import networkx as nx\n",
        "from networkx.generators.random_graphs import random_powerlaw_tree\n",
        "from networkx.linalg.graphmatrix import adjacency_matrix\n",
        "\n",
        "\n",
        "class kgEnv():\n",
        "    def __init__(self, n_nodes):\n",
        "        # generate a tree\n",
        "        G = random_powerlaw_tree(n_nodes, gamma=np.random.rand() * 2 + 2, tries=100000)\n",
        "        A = adjacency_matrix(G).todense()\n",
        "        A = np.array(A)\n",
        "\n",
        "        # random change the direction\n",
        "        for i in range(n_nodes):\n",
        "            for j in range(i, n_nodes):\n",
        "                if A[i, j] == 1:\n",
        "                    if np.random.rand() < 0.5:\n",
        "                        A[i, j] = 0\n",
        "                    else:\n",
        "                        A[j, i] = 0\n",
        "\n",
        "        # save this but not used: the original tree\n",
        "        self.origin_A = A.copy()\n",
        "\n",
        "        # save the layout for further use\n",
        "        G = nx.convert_matrix.from_numpy_array(A, create_using=nx.DiGraph())\n",
        "        self.origin_layout = nx.planar_layout(G)\n",
        "\n",
        "        # randomly generate the probability\n",
        "        prob = np.random.rand(n_nodes)\n",
        "        self.prob = prob\n",
        "\n",
        "        # save the graph\n",
        "        self.n_nodes = n_nodes\n",
        "        self.nodes = list(range(n_nodes))\n",
        "        self.A = A.copy()\n",
        "\n",
        "    def get_adj(self):\n",
        "        return self.nodes.copy(), self.A.copy()\n",
        "\n",
        "    def remove_node(self, node):\n",
        "        if node not in self.nodes:\n",
        "            return [], -1, None\n",
        "\n",
        "        # correct or not\n",
        "        correct = False\n",
        "        if np.random.rand() <= self.prob[node]:\n",
        "            correct = True\n",
        "\n",
        "        # initialize\n",
        "        tmp1 = [node]\n",
        "        tmp2 = []\n",
        "        rm_list = set()\n",
        "        # if not correct\n",
        "        if not correct:\n",
        "            while len(tmp1) > 0:\n",
        "                for n in tmp1:\n",
        "                    tmp2 = tmp2 + list(np.where(self.A[n, :] == 1)[0])\n",
        "                    self.A[n, :] = 0\n",
        "                    self.A[:, n] = 0\n",
        "                    rm_list.add(n)\n",
        "                tmp1 = list(set(tmp2))\n",
        "                tmp2 = []\n",
        "\n",
        "        # if forward\n",
        "        if correct:\n",
        "            while len(tmp1) > 0:\n",
        "                for n in tmp1:\n",
        "                    tmp2 = tmp2 + list(np.where(self.A[:, n] == 1)[0])\n",
        "                    self.A[n, :] = 0\n",
        "                    self.A[:, n] = 0\n",
        "                    rm_list.add(n)\n",
        "                tmp1 = list(set(tmp2))\n",
        "                tmp2 = []\n",
        "\n",
        "        for n in rm_list:\n",
        "            self.nodes.remove(n)\n",
        "        return rm_list, (len(self.nodes) == 0) * 10, correct\n",
        "\n",
        "    def reset_all(self):\n",
        "        self.A = self.origin_A.copy()\n",
        "        self.nodes = list(range(self.n_nodes))\n",
        "\n",
        "    def plot_graph(self, plot_type=0):\n",
        "        # plot_type = 0/1: origin graph, current graph\n",
        "        if plot_type == 0:\n",
        "            i_edge, o_edge = np.where(self.origin_A == 1)\n",
        "            labels = {i: '{}: {:.2f}'.format(i, self.prob[i]) for i in range(self.n_nodes)}\n",
        "        if plot_type == 1:\n",
        "            i_edge, o_edge = np.where(self.A == 1)\n",
        "\n",
        "        # create a graph\n",
        "        df = pd.DataFrame({'from': i_edge, 'to': o_edge})\n",
        "        G = nx.from_pandas_edgelist(df, 'from', 'to', create_using=nx.DiGraph())\n",
        "        for n in self.nodes:\n",
        "            G.add_node(n)\n",
        "\n",
        "        # plot in a planar method\n",
        "        if plot_type < 0.5:\n",
        "            nx.draw(G, pos=self.origin_layout, labels=labels,\n",
        "                    with_labels=True, node_size=250, arrows=True,\n",
        "                    node_color='whitesmoke', font_color='red')\n",
        "        else:\n",
        "            nx.draw(G, with_labels=True, node_size=250, alpha=0.8,\n",
        "                    arrows=True, pos=self.origin_layout)\n",
        "        plt.title(\"Graph: \" + str(plot_type))\n",
        "        plt.show()\n",
        "\n",
        "\n"
      ],
      "execution_count": null,
      "outputs": []
    },
    {
      "cell_type": "code",
      "metadata": {
        "id": "HEhXpEIHwhln"
      },
      "source": [
        "def bfs(input):\n",
        "    val_node=input[0].copy()\n",
        "    graph = input[1].copy()\n",
        "    n_nodes = len(graph)\n",
        "    m = int(n_nodes/2)\n",
        "    dis_mat=[]\n",
        "    for n_node in range(n_nodes):\n",
        "        new_mat = np.zeros([n_nodes])\n",
        "        matrix = [graph.copy(),graph.T.copy()]\n",
        "        for idx,mat in enumerate(matrix):\n",
        "            bfs = []\n",
        "            tmp1_node = [n_node]\n",
        "            tmp2_node = []\n",
        "            # begin\n",
        "            while len(tmp1_node) + len(tmp2_node) > 0:\n",
        "                # for each parent\n",
        "                for parent_node in tmp1_node:\n",
        "                    tmp = [parent_node, []]\n",
        "                    # for each child, row\n",
        "                    for child_node, child_weight in enumerate(mat[parent_node, :]):\n",
        "                        if child_weight > 0:\n",
        "                            # add current node info\n",
        "                            tmp[1].append(child_node)\n",
        "                            # add children to tmp2\n",
        "                            tmp2_node.append(child_node)\n",
        "                            # remove this edge\n",
        "                            mat[parent_node, child_node] = 0\n",
        "                  \n",
        "                \n",
        "                    bfs.append(tmp.copy())\n",
        "                # to next level\n",
        "                tmp1_node = tmp2_node.copy()\n",
        "                tmp2_node = []\n",
        "          # print(bfs)\n",
        "            keys=[]\n",
        "            values=[]\n",
        "            for i in range(len(bfs)):\n",
        "                if bfs[i][0] not in keys:\n",
        "                    keys.append(bfs[i][0])\n",
        "                    values.append(bfs[i][1])\n",
        "            bfs_dict=dict(zip(keys, values)) \n",
        "          # print(bfs_dict)\n",
        "            if n_node in val_node:\n",
        "                if idx== 0:\n",
        "                  new_mat[0]=1\n",
        "                  new_mat[2]=len(bfs_dict[n_node])+1\n",
        "                else:\n",
        "                  new_mat[1]=1\n",
        "                  new_mat[3]=len(bfs_dict[n_node])+1\n",
        "            for i in range(m-2):\n",
        "                adj_node = []\n",
        "                queue = [n_node]\n",
        "                if n_node in val_node:\n",
        "                  adj_node.append(n_node)\n",
        "                adj_node.extend(bfs_dict[n_node])\n",
        "                for loop in range(i+1):\n",
        "                    a = []\n",
        "                    for q_node in queue:\n",
        "\n",
        "                        a.extend(bfs_dict[q_node])\n",
        "                        for node in bfs_dict[q_node]:\n",
        "                            #print(node)\n",
        "                            for b in bfs_dict[node]:\n",
        "                              # print(b)\n",
        "                                if b not in adj_node:\n",
        "                                    adj_node.append(b)\n",
        "                    queue=a.copy()\n",
        "                \n",
        "                    \n",
        "              # print(adj_node)\n",
        "              # print(len(adj_node))\n",
        "                if idx == 0: \n",
        "                    new_mat[2*(i+2)] = len(adj_node)\n",
        "                else:\n",
        "                    new_mat[2*(i+2)+1] = len(adj_node)\n",
        "\n",
        "            \n",
        "        dis_mat.append(new_mat)\n",
        "      \n",
        "    diag_mat = np.zeros([n_nodes, n_nodes])\n",
        "    for v_node in val_node:\n",
        "        diag_mat[v_node,v_node] = 1\n",
        "\n",
        "    Lap_mat = np.zeros([n_nodes, n_nodes])\n",
        "    Lap_mat[range(n_nodes), range(n_nodes)] = np.sum(graph, 1)\n",
        "    Lap_mat = Lap_mat - graph\n",
        "\n",
        "              \n",
        "    return dis_mat,diag_mat,Lap_mat"
      ],
      "execution_count": null,
      "outputs": []
    },
    {
      "cell_type": "code",
      "metadata": {
        "id": "C6LYtH1dv62Z",
        "colab": {
          "base_uri": "https://localhost:8080/"
        },
        "outputId": "3f3c4729-92f1-4f92-bf43-a302f044ec13"
      },
      "source": [
        "env = kgEnv(12)\n",
        "env.remove_node(6)"
      ],
      "execution_count": null,
      "outputs": [
        {
          "output_type": "execute_result",
          "data": {
            "text/plain": [
              "({6, 11}, 0, True)"
            ]
          },
          "metadata": {},
          "execution_count": 35
        }
      ]
    },
    {
      "cell_type": "code",
      "metadata": {
        "id": "3aqmLOLB1l39"
      },
      "source": [
        "graph=env.get_adj()"
      ],
      "execution_count": null,
      "outputs": []
    },
    {
      "cell_type": "code",
      "metadata": {
        "colab": {
          "base_uri": "https://localhost:8080/"
        },
        "id": "Ac0nIjn67GbS",
        "outputId": "41619a5b-222e-4b58-bc0a-99e57920939e"
      },
      "source": [
        "graph[1]"
      ],
      "execution_count": null,
      "outputs": [
        {
          "output_type": "execute_result",
          "data": {
            "text/plain": [
              "array([[0, 0, 0, 0, 0, 0, 0, 0, 0, 0, 0, 0],\n",
              "       [1, 0, 1, 0, 0, 0, 0, 0, 0, 0, 0, 0],\n",
              "       [0, 0, 0, 1, 0, 0, 0, 0, 0, 0, 0, 0],\n",
              "       [0, 0, 0, 0, 1, 0, 0, 0, 0, 0, 0, 0],\n",
              "       [0, 0, 0, 0, 0, 0, 0, 0, 1, 0, 0, 0],\n",
              "       [0, 0, 0, 0, 1, 0, 0, 0, 0, 1, 0, 0],\n",
              "       [0, 0, 0, 0, 0, 0, 0, 0, 0, 0, 0, 0],\n",
              "       [0, 0, 0, 0, 0, 0, 0, 0, 0, 0, 0, 0],\n",
              "       [0, 0, 0, 0, 0, 0, 0, 0, 0, 0, 0, 0],\n",
              "       [0, 0, 0, 0, 0, 0, 0, 0, 0, 0, 0, 0],\n",
              "       [0, 0, 0, 0, 0, 0, 0, 0, 0, 0, 0, 0],\n",
              "       [0, 0, 0, 0, 0, 0, 0, 0, 0, 0, 0, 0]], dtype=int64)"
            ]
          },
          "metadata": {},
          "execution_count": 38
        }
      ]
    },
    {
      "cell_type": "code",
      "metadata": {
        "id": "2a6qBYYdwj4P"
      },
      "source": [
        "dis,dia,lap = bfs(graph)"
      ],
      "execution_count": null,
      "outputs": []
    },
    {
      "cell_type": "code",
      "metadata": {
        "colab": {
          "base_uri": "https://localhost:8080/",
          "height": 335
        },
        "id": "S5NOsCUQS0cX",
        "outputId": "9c9cbdce-f1d0-4672-dd4b-5f1ae489cab7"
      },
      "source": [
        "env.plot_graph(1)"
      ],
      "execution_count": null,
      "outputs": [
        {
          "output_type": "display_data",
          "data": {
            "image/png": "[encoded data removed]",
            "text/plain": [
              "<Figure size 432x288 with 1 Axes>"
            ]
          },
          "metadata": {}
        }
      ]
    },
    {
      "cell_type": "code",
      "metadata": {
        "colab": {
          "base_uri": "https://localhost:8080/"
        },
        "id": "58rJeK7u1cw7",
        "outputId": "cb27cdc1-e674-4a16-d15f-d1b941920ecf"
      },
      "source": [
        "dis"
      ],
      "execution_count": null,
      "outputs": [
        {
          "output_type": "execute_result",
          "data": {
            "text/plain": [
              "[array([1., 1., 1., 2., 1., 2., 1., 2., 1., 2., 1., 2.]),\n",
              " array([1., 1., 3., 1., 4., 1., 5., 1., 6., 1., 6., 1.]),\n",
              " array([1., 1., 2., 2., 3., 2., 4., 2., 4., 2., 4., 2.]),\n",
              " array([1., 1., 2., 2., 3., 3., 3., 3., 3., 3., 3., 3.]),\n",
              " array([1., 1., 2., 3., 2., 4., 2., 5., 2., 5., 2., 5.]),\n",
              " array([1., 1., 3., 1., 4., 1., 4., 1., 4., 1., 4., 1.]),\n",
              " array([0., 0., 0., 0., 0., 0., 0., 0., 0., 0., 0., 0.]),\n",
              " array([1., 1., 1., 1., 1., 1., 1., 1., 1., 1., 1., 1.]),\n",
              " array([1., 1., 1., 2., 1., 4., 1., 5., 1., 6., 1., 6.]),\n",
              " array([1., 1., 1., 2., 1., 2., 1., 2., 1., 2., 1., 2.]),\n",
              " array([1., 1., 1., 1., 1., 1., 1., 1., 1., 1., 1., 1.]),\n",
              " array([0., 0., 0., 0., 0., 0., 0., 0., 0., 0., 0., 0.])]"
            ]
          },
          "metadata": {},
          "execution_count": 40
        }
      ]
    },
    {
      "cell_type": "code",
      "metadata": {
        "colab": {
          "base_uri": "https://localhost:8080/"
        },
        "id": "FqeZnA8HCu5P",
        "outputId": "e2ada2a1-c541-4101-875f-efb5bb6d59e2"
      },
      "source": [
        "dia"
      ],
      "execution_count": null,
      "outputs": [
        {
          "output_type": "execute_result",
          "data": {
            "text/plain": [
              "array([[1., 0., 0., 0., 0., 0., 0., 0., 0., 0., 0., 0.],\n",
              "       [0., 1., 0., 0., 0., 0., 0., 0., 0., 0., 0., 0.],\n",
              "       [0., 0., 1., 0., 0., 0., 0., 0., 0., 0., 0., 0.],\n",
              "       [0., 0., 0., 1., 0., 0., 0., 0., 0., 0., 0., 0.],\n",
              "       [0., 0., 0., 0., 1., 0., 0., 0., 0., 0., 0., 0.],\n",
              "       [0., 0., 0., 0., 0., 1., 0., 0., 0., 0., 0., 0.],\n",
              "       [0., 0., 0., 0., 0., 0., 0., 0., 0., 0., 0., 0.],\n",
              "       [0., 0., 0., 0., 0., 0., 0., 1., 0., 0., 0., 0.],\n",
              "       [0., 0., 0., 0., 0., 0., 0., 0., 1., 0., 0., 0.],\n",
              "       [0., 0., 0., 0., 0., 0., 0., 0., 0., 1., 0., 0.],\n",
              "       [0., 0., 0., 0., 0., 0., 0., 0., 0., 0., 1., 0.],\n",
              "       [0., 0., 0., 0., 0., 0., 0., 0., 0., 0., 0., 0.]])"
            ]
          },
          "metadata": {},
          "execution_count": 42
        }
      ]
    },
    {
      "cell_type": "code",
      "metadata": {
        "colab": {
          "base_uri": "https://localhost:8080/"
        },
        "id": "l8GUgr126iE6",
        "outputId": "8a36ae21-81c1-4a66-94cd-3dd546c9a62d"
      },
      "source": [
        "lap"
      ],
      "execution_count": null,
      "outputs": [
        {
          "output_type": "execute_result",
          "data": {
            "text/plain": [
              "array([[ 0.,  0.,  0.,  0.,  0.,  0.,  0.,  0.,  0.,  0.,  0.,  0.],\n",
              "       [-1.,  2., -1.,  0.,  0.,  0.,  0.,  0.,  0.,  0.,  0.,  0.],\n",
              "       [ 0.,  0.,  1., -1.,  0.,  0.,  0.,  0.,  0.,  0.,  0.,  0.],\n",
              "       [ 0.,  0.,  0.,  1., -1.,  0.,  0.,  0.,  0.,  0.,  0.,  0.],\n",
              "       [ 0.,  0.,  0.,  0.,  1.,  0.,  0.,  0., -1.,  0.,  0.,  0.],\n",
              "       [ 0.,  0.,  0.,  0., -1.,  2.,  0.,  0.,  0., -1.,  0.,  0.],\n",
              "       [ 0.,  0.,  0.,  0.,  0.,  0.,  0.,  0.,  0.,  0.,  0.,  0.],\n",
              "       [ 0.,  0.,  0.,  0.,  0.,  0.,  0.,  0.,  0.,  0.,  0.,  0.],\n",
              "       [ 0.,  0.,  0.,  0.,  0.,  0.,  0.,  0.,  0.,  0.,  0.,  0.],\n",
              "       [ 0.,  0.,  0.,  0.,  0.,  0.,  0.,  0.,  0.,  0.,  0.,  0.],\n",
              "       [ 0.,  0.,  0.,  0.,  0.,  0.,  0.,  0.,  0.,  0.,  0.,  0.],\n",
              "       [ 0.,  0.,  0.,  0.,  0.,  0.,  0.,  0.,  0.,  0.,  0.,  0.]])"
            ]
          },
          "metadata": {},
          "execution_count": 43
        }
      ]
    },
    {
      "cell_type": "code",
      "metadata": {
        "id": "7OL2u2JpQz9F"
      },
      "source": [
        "k = np.zeros((3,12,12))\n",
        "k[0,:,:] = dia\n",
        "k[1,:,:] = lap"
      ],
      "execution_count": null,
      "outputs": []
    },
    {
      "cell_type": "code",
      "metadata": {
        "colab": {
          "base_uri": "https://localhost:8080/"
        },
        "id": "yE6ERsgY62RP",
        "outputId": "345939d3-70cb-4d13-cfdc-75e5046f8aee"
      },
      "source": [
        "env.remove_node(6)"
      ],
      "execution_count": null,
      "outputs": [
        {
          "output_type": "execute_result",
          "data": {
            "text/plain": [
              "({3, 4, 5, 6, 7, 8, 9, 10, 11}, 0, False)"
            ]
          },
          "metadata": {},
          "execution_count": 45
        }
      ]
    },
    {
      "cell_type": "code",
      "metadata": {
        "colab": {
          "base_uri": "https://localhost:8080/",
          "height": 335
        },
        "id": "Qpap4QtB1qDn",
        "outputId": "9c818e07-2f49-4aa6-b0f8-aca3e825923a"
      },
      "source": [
        "env.plot_graph(1)"
      ],
      "execution_count": null,
      "outputs": [
        {
          "output_type": "display_data",
          "data": {
            "image/png": "[encoded data removed]",
            "text/plain": [
              "<Figure size 432x288 with 1 Axes>"
            ]
          },
          "metadata": {}
        }
      ]
    },
    {
      "cell_type": "markdown",
      "metadata": {
        "id": "7LhbiMfbLATa"
      },
      "source": [
        "## GCN"
      ]
    },
    {
      "cell_type": "code",
      "metadata": {
        "colab": {
          "base_uri": "https://localhost:8080/"
        },
        "id": "TavQkjYNd9YK",
        "outputId": "3259a8cb-281b-4f9c-c862-24c33663817e"
      },
      "source": [
        "import torch_sparse\n",
        "import torch_scatter\n",
        "import torch_geometric.transforms as T\n",
        "from torch_geometric.datasets import Planetoid\n",
        "\n",
        "dataset = Planetoid(root='/tmp/Cora', name='Cora')"
      ],
      "execution_count": null,
      "outputs": [
        {
          "output_type": "stream",
          "name": "stderr",
          "text": [
            "Downloading https://github.com/kimiyoung/planetoid/raw/master/data/ind.cora.x\n",
            "Downloading https://github.com/kimiyoung/planetoid/raw/master/data/ind.cora.tx\n",
            "Downloading https://github.com/kimiyoung/planetoid/raw/master/data/ind.cora.allx\n",
            "Downloading https://github.com/kimiyoung/planetoid/raw/master/data/ind.cora.y\n",
            "Downloading https://github.com/kimiyoung/planetoid/raw/master/data/ind.cora.ty\n",
            "Downloading https://github.com/kimiyoung/planetoid/raw/master/data/ind.cora.ally\n",
            "Downloading https://github.com/kimiyoung/planetoid/raw/master/data/ind.cora.graph\n",
            "Downloading https://github.com/kimiyoung/planetoid/raw/master/data/ind.cora.test.index\n",
            "Processing...\n",
            "Done!\n"
          ]
        }
      ]
    },
    {
      "cell_type": "code",
      "metadata": {
        "colab": {
          "base_uri": "https://localhost:8080/"
        },
        "id": "3l0rFTSGPKJP",
        "outputId": "f61acdab-f2a6-45ef-a6b7-ca6b3861c536"
      },
      "source": [
        "dataset[0].x"
      ],
      "execution_count": null,
      "outputs": [
        {
          "output_type": "execute_result",
          "data": {
            "text/plain": [
              "tensor([[0., 0., 0.,  ..., 0., 0., 0.],\n",
              "        [0., 0., 0.,  ..., 0., 0., 0.],\n",
              "        [0., 0., 0.,  ..., 0., 0., 0.],\n",
              "        ...,\n",
              "        [0., 0., 0.,  ..., 0., 0., 0.],\n",
              "        [0., 0., 0.,  ..., 0., 0., 0.],\n",
              "        [0., 0., 0.,  ..., 0., 0., 0.]])"
            ]
          },
          "metadata": {},
          "execution_count": 23
        }
      ]
    },
    {
      "cell_type": "code",
      "metadata": {
        "colab": {
          "base_uri": "https://localhost:8080/"
        },
        "id": "6Ghcjo0LPMBO",
        "outputId": "fd353e71-d040-436f-c583-b6def1b2930f"
      },
      "source": [
        "dataset[0].edge_index.shape"
      ],
      "execution_count": null,
      "outputs": [
        {
          "output_type": "execute_result",
          "data": {
            "text/plain": [
              "torch.Size([2, 10556])"
            ]
          },
          "metadata": {},
          "execution_count": 21
        }
      ]
    },
    {
      "cell_type": "code",
      "metadata": {
        "colab": {
          "base_uri": "https://localhost:8080/"
        },
        "id": "3uH-VgYzvgO_",
        "outputId": "c49bbcd0-6c1c-4026-a949-364c2145ea65"
      },
      "source": [
        "dataset[0].y"
      ],
      "execution_count": null,
      "outputs": [
        {
          "output_type": "execute_result",
          "data": {
            "text/plain": [
              "torch.Size([2708])"
            ]
          },
          "metadata": {},
          "execution_count": 46
        }
      ]
    },
    {
      "cell_type": "code",
      "metadata": {
        "id": "G4R9zCfqaljf"
      },
      "source": [
        "import torch\n",
        "import time\n",
        "import torch.nn as nn\n",
        "import torch.nn.functional as F\n",
        "from random import sample,seed,random\n",
        "from torch_geometric.nn import GCNConv\n",
        "\n",
        "\n",
        "n_nodes = 10\n",
        "LR = 0.001      \n",
        "GAMMA = 0.9    \n",
        "N_STATES = n_nodes\n",
        "\n",
        "\n",
        "class Network(nn.Module):\n",
        "  def __init__(self):\n",
        "    super(Network, self).__init__()\n",
        "\n",
        "    self.fc1 = nn.Linear(N_STATES, 50)\n",
        "    self.fc1.weight.data.normal_(0, 0.1)\n",
        "    self.out = nn.Linear(50, N_ACTIONS)\n",
        "    self.out.weight.data.normal_(0, 0.1)\n",
        "\n",
        "  def forward(self, x):\n",
        "    x = F.relu(self.fc1(x))\n",
        "    actions_value = self.out(x)\n",
        "    m = nn.Sigmoid()\n",
        "    return m(actions_value)\n",
        "\n",
        "\n",
        "class DQN():\n",
        "  def __init__(self):  # define DQN\n",
        "    self.eval_net, self.target_net = Network(), Network()\n",
        "    self.EPSILON = 0.5\n",
        "    self.decay_e = 0.0004\n",
        "    self.learn_step_counter = 0\n",
        "    self.optimizer = torch.optim.Adam(self.eval_net.parameters(), lr=LR)  # optimization\n",
        "\n",
        "\n",
        "  def predict(self,state):\n",
        "    Q = self.eval_net.forward(state)\n",
        "    Q = Q.tolist()\n",
        "    Q = Q[0]\n",
        "    return Q\n",
        "\n",
        "  def select(self,Q):\n",
        "    if np.random.uniform() < self.EPSILON:\n",
        "        selectedAction = np.random.choice(list(np.where(np.array(Q) == max(Q))[0]), 1)[0]\n",
        "    else:\n",
        "        selectedAction = np.random.randint(0, N_ACTIONS)\n",
        "    action = [0, 0, 0, 0, 0]\n",
        "    action[selectedAction] = 1\n",
        "    selectedQ = Q[selectedAction]\n",
        "    return action,selectedQ\n",
        "\n",
        "  def train(self,state,action,utility,next_state):\n",
        "    # target parameter update\n",
        "    if self.learn_step_counter % 50 == 0:\n",
        "        self.target_net.load_state_dict(self.eval_net.state_dict())\n",
        "    self.learn_step_counter += 1\n",
        "\n",
        "    state = torch.unsqueeze(torch.FloatTensor(state), 0)\n",
        "    next_state = torch.unsqueeze(torch.FloatTensor(next_state), 0)\n",
        "    action = torch.unsqueeze(torch.FloatTensor(action), 0)\n",
        "    index = torch.argmax(action)\n",
        "\n",
        "    q_eval = self.eval_net(state)\n",
        "    q = q_eval[0]\n",
        "    q = q[index]\n",
        "\n",
        "    # next\n",
        "    if utility == -1 or utility == 0:\n",
        "        nextQ = 0\n",
        "    elif utility == 1:\n",
        "        nextQ = 1\n",
        "    else:\n",
        "        nextQ = self.target_net(next_state).detach()\n",
        "        nextQ,_= torch.max(nextQ, dim=1)\n",
        "\n",
        "    q_target = utility + GAMMA * nextQ\n",
        "    loss = (q_target - q)**2\n",
        "    self.optimizer.zero_grad()\n",
        "    loss.backward()\n",
        "    self.optimizer.step()\n",
        "\n",
        "  def update(self):\n",
        "    self.EPSILON += self.decay_e\n"
      ],
      "execution_count": null,
      "outputs": []
    },
    {
      "cell_type": "code",
      "metadata": {
        "id": "r94A1WK2cPUW"
      },
      "source": [
        "def Navigator():\n",
        "    dqnconHandler = DQN()\n",
        "    plotHandler = Dplot(16)\n",
        "    # init\n",
        "    suc = 0\n",
        "    ver = 100\n",
        "\n",
        "    for turn in range(3001):\n",
        "        # print\n",
        "        if(turn % ver == 0):\n",
        "            print(\"number of iterations:{t}, and the hit rate is:{h}\".format(t=turn, h=suc/ver))\n",
        "            # reset\n",
        "            suc = 0\n",
        "\n",
        "        # generate environment\n",
        "        actionHandler = MineField()\n",
        "        actionHandler.genrateMines()\n",
        "        actionHandler.generateCar()\n",
        "        actionHandler.generateAim()\n",
        "\n",
        "        # plot\n",
        "        if (turn % ver == 0):\n",
        "            plotHandler.newPlot()\n",
        "            plotHandler.initialPlot(actionHandler.TMineArray,actionHandler.path,actionHandler.aimPos)\n",
        "\n",
        "        utility = 0.5\n",
        "        while len(actionHandler.path[0]) < actionHandler.maxAction and utility > 0 and utility != 1:\n",
        "            state = actionHandler.getSensor() + actionHandler.getState()\n",
        "            allQ = dqnconHandler.predict(state)\n",
        "\n",
        "            #select valid action\n",
        "            action = [0,0,0,0,0]\n",
        "            for i in range(5):\n",
        "                action[i] = 1\n",
        "                if actionHandler.testMovement(action):\n",
        "                    allQ[i] = -1\n",
        "                action[i] = 0\n",
        "\n",
        "            # select action\n",
        "            movement,selectedQ = dqnconHandler.select(allQ)\n",
        "\n",
        "            #train\n",
        "            if selectedQ == -1:\n",
        "                utility = 0\n",
        "                dqnconHandler.train(state, [1,1,1,1,1], utility,  state)\n",
        "            else:\n",
        "                pre_utility, utility = actionHandler.getUtility(movement)\n",
        "\n",
        "                # plot\n",
        "                if (turn % ver == 0):\n",
        "                    plotHandler.moveOneStep(actionHandler.path)\n",
        "\n",
        "                # set utility\n",
        "                if utility == 1:\n",
        "                    suc = suc + 1\n",
        "\n",
        "                # next state\n",
        "                nextState = actionHandler.getSensor() + actionHandler.getState()\n",
        "                # train\n",
        "                dqnconHandler.train(state, movement, utility, nextState)\n",
        "\n",
        "        # UPDATE\n",
        "        dqnconHandler.update()\n",
        "        del actionHandler\n",
        "\n",
        "    return 1\n",
        "\n",
        "res = Navigator()"
      ],
      "execution_count": null,
      "outputs": []
    },
    {
      "cell_type": "code",
      "metadata": {
        "id": "JMkmiRu0w10Y"
      },
      "source": [
        "\n",
        "#数据集加载\n",
        "from torch_geometric.datasets import Planetoid\n",
        "dataset = Planetoid(root='/tmp/Cora', name='Cora')\n",
        "\n",
        "#网络定义\n",
        "class Net(torch.nn.Module):\n",
        "    def __init__(self):\n",
        "        super(Net, self).__init__()\n",
        "        self.conv1 = GCNConv(dataset.num_node_features, 16)\n",
        "        self.conv2 = GCNConv(16, dataset.num_classes)\n",
        "\n",
        "    def forward(self, data):\n",
        "        x, edge_index = data.x, data.edge_index\n",
        "\n",
        "        x = self.conv1(x, edge_index)\n",
        "        x = F.relu(x)\n",
        "        x = F.dropout(x, training=self.training)\n",
        "        x = self.conv2(x, edge_index)\n",
        "\n",
        "        return F.log_softmax(x, dim=1)\n",
        "\n",
        "device = torch.device('cuda' if torch.cuda.is_available() else 'cpu')\n",
        "model = Net().to(device)\n",
        "data = dataset[0].to(device)\n",
        "optimizer = torch.optim.Adam(model.parameters(), lr=0.01, weight_decay=5e-4)\n",
        "\n",
        "#网络训练\n",
        "model.train()\n",
        "for epoch in range(200):\n",
        "    optimizer.zero_grad()\n",
        "    out = model(data)\n",
        "    loss = F.nll_loss(out[data.train_mask], data.y[data.train_mask])\n",
        "    loss.backward()\n",
        "    optimizer.step()\n",
        "\n",
        "#测试\n",
        "model.eval()\n",
        "_, pred = model(data).max(dim=1)\n",
        "correct = float(pred[data.test_mask].eq(data.y[data.test_mask]).sum().item())\n",
        "acc = correct / data.test_mask.sum().item()\n",
        "print('Accuracy: {:.4f}'.format(acc))"
      ],
      "execution_count": null,
      "outputs": []
    },
    {
      "cell_type": "code",
      "metadata": {
        "id": "W8A65c4qxAUo"
      },
      "source": [
        "import torch\n",
        "from torch_geometric.nn import MessagePassing\n",
        "from torch_geometric.utils import add_self_loops, degree\n",
        "\n",
        "class GCNConv(MessagePassing):\n",
        "    def __init__(self, in_channels, out_channels):\n",
        "        super(GCNConv, self).__init__(aggr='add')  # \"Add\" aggregation.\n",
        "        self.lin = torch.nn.Linear(in_channels, out_channels)\n",
        "\n",
        "    def forward(self, x, edge_index):\n",
        "        # x has shape [N, in_channels]\n",
        "        # edge_index has shape [2, E]\n",
        "\n",
        "        # Step 1: 增加自连接到邻接矩阵\n",
        "        edge_index, _ = add_self_loops(edge_index, num_nodes=x.size(0))\n",
        "\n",
        "        # Step 2: 对节点的特征矩阵进行线性变换\n",
        "        x = self.lin(x)\n",
        "\n",
        "        # Step 3-5: Start propagating messages.\n",
        "        return self.propagate(edge_index, size=(x.size(0), x.size(0)), x=x)\n",
        "\n",
        "    def message(self, x_j, edge_index, size):\n",
        "        # x_j has shape [E, out_channels]\n",
        "\n",
        "        # Step 3: Normalize node features.\n",
        "        row, col = edge_index\n",
        "        deg = degree(row, size[0], dtype=x_j.dtype)\n",
        "        deg_inv_sqrt = deg.pow(-0.5)\n",
        "        norm = deg_inv_sqrt[row] * deg_inv_sqrt[col]\n",
        "\n",
        "        return norm.view(-1, 1) * x_j\n",
        "\n",
        "    def update(self, aggr_out):\n",
        "        # aggr_out has shape [N, out_channels]\n",
        "\n",
        "        # Step 5: Return new node embeddings.\n",
        "        return aggr_out"
      ],
      "execution_count": null,
      "outputs": []
    },
    {
      "cell_type": "markdown",
      "metadata": {
        "id": "778k4D8Bn4nJ"
      },
      "source": [
        "# MCMC Sampling"
      ]
    },
    {
      "cell_type": "code",
      "metadata": {
        "id": "WwdbkSacGnbe"
      },
      "source": [
        "import numpy as np\n",
        "import torch\n",
        "import pyro\n",
        "import pyro.infer\n",
        "import pyro.optim\n",
        "import pyro.distributions as pyrodist\n",
        "from tqdm import tqdm"
      ],
      "execution_count": null,
      "outputs": []
    },
    {
      "cell_type": "code",
      "metadata": {
        "id": "BR2CetjfNU7U"
      },
      "source": [
        "def model(y, pri_person_u, pri_person_v, pri_item_u, pri_item_v):\n",
        "    # 1. set the prior\n",
        "    exam_pri = pyrodist.Normal(pri_person_u, pri_person_v)\n",
        "    item_pri = pyrodist.Normal(pri_item_u, pri_item_v)\n",
        "\n",
        "    # 2. Sample a value from the weight distributoin\n",
        "    exam = pyro.sample(\"exam\", exam_pri)\n",
        "    item = pyro.sample(\"item\", item_pri)\n",
        "    p = 1. / (1. + torch.exp(- exam + item))\n",
        "\n",
        "    # 3. Now use a that value to define our scale (remember our scale gives us values\n",
        "    my_dist = pyrodist.Bernoulli(p)\n",
        "\n",
        "    # 4. For each of the observations, let's draw a sample from our distribution.\n",
        "    measurement = pyro.sample('obs', my_dist, obs=y)\n"
      ],
      "execution_count": null,
      "outputs": []
    },
    {
      "cell_type": "code",
      "metadata": {
        "id": "6YSDcF2NM8HV"
      },
      "source": [
        "def getPost(y, pri_person_u, pri_person_v, pri_item_u, pri_item_v):\n",
        "  # 1. Clear storage of named parameters\n",
        "  pyro.clear_param_store()\n",
        "\n",
        "  # 2. Define the MCMC kernel function\n",
        "  my_kernel = pyro.infer.NUTS(model)\n",
        "\n",
        "  # 3. Define the MCMC algorithm\n",
        "  my_mcmc = pyro.infer.MCMC(my_kernel, num_samples=8000, warmup_steps=2000, \n",
        "                      num_chains=1, disable_progbar=1)\n",
        "\n",
        "  y = torch.tensor(y, dtype=torch.float32, requires_grad=False)\n",
        "  p_m = torch.tensor(pri_person_u, dtype=torch.float32, requires_grad=False)\n",
        "  p_v = torch.tensor(pri_person_v, dtype=torch.float32, requires_grad=False)\n",
        "  i_m = torch.tensor(pri_item_u, dtype=torch.float32, requires_grad=False)\n",
        "  i_v = torch.tensor(pri_item_v, dtype=torch.float32, requires_grad=False)\n",
        "\n",
        "  # 4. Run the algorithm, send our observations\n",
        "  my_mcmc.run(y, p_m, p_v, i_m, i_v)\n",
        "\n",
        "  # update\n",
        "  pos_person_mu = my_mcmc.get_samples()['exam'].mean(axis=0)\n",
        "  pos_person_std = my_mcmc.get_samples()['exam'].std(axis=0)\n",
        "  pos_item_mu = my_mcmc.get_samples()['item'].mean(axis=0)\n",
        "  pos_item_std = my_mcmc.get_samples()['item'].std(axis=0)\n",
        "\n",
        "  return pos_person_mu, pos_person_std, pos_item_mu, pos_item_std"
      ],
      "execution_count": null,
      "outputs": []
    },
    {
      "cell_type": "markdown",
      "metadata": {
        "id": "JjVePViOoKyV"
      },
      "source": [
        "# NN To Train a MCMC Predictor"
      ]
    },
    {
      "cell_type": "markdown",
      "metadata": {
        "id": "58-i6spdoS61"
      },
      "source": [
        "## Data Gen"
      ]
    },
    {
      "cell_type": "code",
      "metadata": {
        "id": "fG8ZMLIZLKkM"
      },
      "source": [
        "from google.colab import drive\n",
        "drive.mount('/content/gdrive')\n",
        "%cd ./gdrive/MyDrive/EE209_COMP_ROB"
      ],
      "execution_count": null,
      "outputs": []
    },
    {
      "cell_type": "code",
      "metadata": {
        "id": "eWVvbRipNY5e"
      },
      "source": [
        "def genBtach(batch):\n",
        "  y = np.random.randint(0, 2, batch)\n",
        "  p_m = np.random.randn(batch)\n",
        "  p_v = np.exp(np.random.randn(batch)-2)\n",
        "  i_m = np.random.randn(batch)\n",
        "  i_v = np.exp(np.random.randn(batch)-2)\n",
        "\n",
        "  data = np.zeros([batch, 8])\n",
        "  target = np.zeros([batch, 4])\n",
        "  \n",
        "  for i in tqdm(range(batch)):\n",
        "    a,b,c,d = getPost(y[i], p_m[i], p_v[i], i_m[i], i_v[i])\n",
        "    data[i, 0] = p_m[i]\n",
        "    data[i, 1] = p_v[i]\n",
        "    data[i, 2] = i_m[i]\n",
        "    data[i, 3] = i_v[i]\n",
        "    data[i, 4] = y[i]\n",
        "    data[i, 5] = 1 - y[i]\n",
        "    p = 1.0 / (1.0 + np.exp(- p_m[i] + i_m[i]))\n",
        "    data[i, 6] = p\n",
        "    data[i, 7] = 1-p\n",
        "\n",
        "    target[i, 0] = a\n",
        "    target[i, 1] = b\n",
        "    target[i, 2] = c\n",
        "    target[i, 3] = d\n",
        "  \n",
        "  return data, target"
      ],
      "execution_count": null,
      "outputs": []
    },
    {
      "cell_type": "code",
      "metadata": {
        "id": "xHpAARWPVo15"
      },
      "source": [
        "#import pickle\n",
        "\n",
        "#for i in range(20,40):\n",
        "#  x,y = genBtach(500)\n",
        "#  pickle.dump([x,y], open(\"save_\"+str(i)+\".p\", \"wb\" ))"
      ],
      "execution_count": null,
      "outputs": []
    },
    {
      "cell_type": "markdown",
      "metadata": {
        "id": "b79px0seoXzg"
      },
      "source": [
        "## train"
      ]
    },
    {
      "cell_type": "code",
      "metadata": {
        "id": "_sNWywEofj68"
      },
      "source": [
        "import pickle\n",
        "\n",
        "xs = np.zeros([20000, 8])\n",
        "ys = np.zeros([20000, 4])\n",
        "for i in range(40):\n",
        "  x,y = pickle.load(open(\"save_\"+str(i)+\".p\", \"rb\" ))\n",
        "  xs[i*500:(i+1)*500] = x\n",
        "  ys[i*500:(i+1)*500] = y"
      ],
      "execution_count": null,
      "outputs": []
    },
    {
      "cell_type": "code",
      "metadata": {
        "id": "4PGPKnzpdjC_"
      },
      "source": [
        "from torch.utils.data import DataLoader, TensorDataset\n",
        "\n",
        "dataset = TensorDataset(torch.tensor(xs, dtype=torch.float32), torch.tensor(ys, dtype=torch.float32))\n",
        "train_dataloader = DataLoader(dataset, batch_size=64, shuffle=True)"
      ],
      "execution_count": null,
      "outputs": []
    },
    {
      "cell_type": "code",
      "metadata": {
        "id": "pfgof8cuOXUO"
      },
      "source": [
        "import torch.nn as nn\n",
        "import torch.nn.functional as F\n",
        "\n",
        "\n",
        "class Net(nn.Module):\n",
        "    def __init__(self):\n",
        "      super().__init__()\n",
        "      self.fc1 = nn.Linear(8, 20)\n",
        "      self.fc2 = nn.Linear(20, 20)\n",
        "      self.fc3 = nn.Linear(20, 10)\n",
        "      self.fc4 = nn.Linear(10, 4)\n",
        "\n",
        "    def forward(self, x):\n",
        "      idendity = x\n",
        "      x1 = torch.sigmoid(self.fc1(x))\n",
        "      x2 = torch.sigmoid(self.fc2(x1))\n",
        "      x3 = torch.sigmoid(self.fc3(x2))\n",
        "      x4 = self.fc4(x3) + idendity[:,0:4]\n",
        "      return x4\n",
        "\n",
        "net = Net()"
      ],
      "execution_count": null,
      "outputs": []
    },
    {
      "cell_type": "code",
      "metadata": {
        "id": "TDYYhUxOcfZ8"
      },
      "source": [
        "import torch.optim as optim\n",
        "\n",
        "my_loss_fn = nn.MSELoss()\n",
        "optimizer = optim.Adam(net.parameters(), lr=0.0005)\n",
        "#scheduler = torch.optim.lr_scheduler.StepLR(optimizer, step_size=1000, gamma=0.1)"
      ],
      "execution_count": null,
      "outputs": []
    },
    {
      "cell_type": "code",
      "metadata": {
        "colab": {
          "base_uri": "https://localhost:8080/"
        },
        "id": "NA9hvP5oYmbe",
        "outputId": "6e146337-029d-44eb-a718-f8a66222861c"
      },
      "source": [
        "for epoch in range(10000):  # loop over the dataset multiple times\n",
        "  running_loss = 0.0\n",
        "  for i, data in enumerate(train_dataloader, 0):\n",
        "    # get the inputs; data is a list of [inputs, labels]\n",
        "    inputs, labels = data\n",
        "\n",
        "    # zero the parameter gradients\n",
        "    optimizer.zero_grad()\n",
        "\n",
        "    # forward + backward + optimize\n",
        "    outputs = net(inputs)\n",
        "    loss = my_loss_fn(outputs, labels)\n",
        "    loss.backward()\n",
        "    optimizer.step()\n",
        "\n",
        "    # print statistics\n",
        "    running_loss += loss.item()\n",
        "  if epoch % 100 == 99:\n",
        "    print('epoch %d, loss: %.5f'%(epoch+1, running_loss/len(train_dataloader)))\n",
        "  running_loss = 0.0\n",
        "\n",
        "print('Finished Training')"
      ],
      "execution_count": null,
      "outputs": [
        {
          "output_type": "stream",
          "name": "stdout",
          "text": [
            "epoch 100, loss: 0.00128\n",
            "epoch 200, loss: 0.00079\n",
            "epoch 300, loss: 0.00069\n",
            "epoch 400, loss: 0.00066\n",
            "epoch 500, loss: 0.00065\n",
            "epoch 600, loss: 0.00064\n",
            "epoch 700, loss: 0.00063\n",
            "epoch 800, loss: 0.00062\n",
            "epoch 900, loss: 0.00062\n",
            "epoch 1000, loss: 0.00061\n",
            "epoch 1100, loss: 0.00061\n",
            "epoch 1200, loss: 0.00061\n",
            "epoch 1300, loss: 0.00061\n",
            "epoch 1400, loss: 0.00060\n",
            "epoch 1500, loss: 0.00061\n",
            "epoch 1600, loss: 0.00060\n",
            "epoch 1700, loss: 0.00060\n",
            "epoch 1800, loss: 0.00060\n",
            "epoch 1900, loss: 0.00060\n",
            "epoch 2000, loss: 0.00060\n",
            "epoch 2100, loss: 0.00060\n",
            "epoch 2200, loss: 0.00059\n",
            "epoch 2300, loss: 0.00059\n",
            "epoch 2400, loss: 0.00059\n",
            "epoch 2500, loss: 0.00059\n",
            "epoch 2600, loss: 0.00059\n",
            "epoch 2700, loss: 0.00059\n",
            "epoch 2800, loss: 0.00059\n",
            "epoch 2900, loss: 0.00059\n",
            "epoch 3000, loss: 0.00059\n",
            "epoch 3100, loss: 0.00059\n",
            "epoch 3200, loss: 0.00058\n",
            "epoch 3300, loss: 0.00058\n",
            "epoch 3400, loss: 0.00058\n",
            "epoch 3500, loss: 0.00058\n",
            "epoch 3600, loss: 0.00058\n",
            "epoch 3700, loss: 0.00058\n",
            "epoch 3800, loss: 0.00058\n",
            "epoch 3900, loss: 0.00058\n",
            "epoch 4000, loss: 0.00058\n",
            "epoch 4100, loss: 0.00058\n",
            "epoch 4200, loss: 0.00058\n",
            "epoch 4300, loss: 0.00057\n",
            "epoch 4400, loss: 0.00058\n",
            "epoch 4500, loss: 0.00058\n",
            "epoch 4600, loss: 0.00057\n",
            "epoch 4700, loss: 0.00057\n",
            "epoch 4800, loss: 0.00058\n",
            "epoch 4900, loss: 0.00057\n",
            "epoch 5000, loss: 0.00057\n",
            "epoch 5100, loss: 0.00057\n",
            "epoch 5200, loss: 0.00057\n",
            "epoch 5300, loss: 0.00057\n",
            "epoch 5400, loss: 0.00057\n",
            "epoch 5500, loss: 0.00057\n",
            "epoch 5600, loss: 0.00057\n",
            "epoch 5700, loss: 0.00057\n",
            "epoch 5800, loss: 0.00057\n",
            "epoch 5900, loss: 0.00057\n",
            "epoch 6000, loss: 0.00057\n",
            "epoch 6100, loss: 0.00057\n",
            "epoch 6200, loss: 0.00057\n",
            "epoch 6300, loss: 0.00057\n",
            "epoch 6400, loss: 0.00057\n",
            "epoch 6500, loss: 0.00057\n",
            "epoch 6600, loss: 0.00057\n",
            "epoch 6700, loss: 0.00057\n",
            "epoch 6800, loss: 0.00057\n",
            "epoch 6900, loss: 0.00056\n",
            "epoch 7000, loss: 0.00056\n",
            "epoch 7100, loss: 0.00056\n",
            "epoch 7200, loss: 0.00056\n",
            "epoch 7300, loss: 0.00056\n",
            "epoch 7400, loss: 0.00056\n",
            "epoch 7500, loss: 0.00056\n",
            "epoch 7600, loss: 0.00056\n",
            "epoch 7700, loss: 0.00056\n",
            "epoch 7800, loss: 0.00056\n",
            "epoch 7900, loss: 0.00056\n",
            "epoch 8000, loss: 0.00056\n",
            "epoch 8100, loss: 0.00056\n",
            "epoch 8200, loss: 0.00056\n",
            "epoch 8300, loss: 0.00056\n",
            "epoch 8400, loss: 0.00056\n",
            "epoch 8500, loss: 0.00056\n",
            "epoch 8600, loss: 0.00056\n",
            "epoch 8700, loss: 0.00056\n",
            "epoch 8800, loss: 0.00056\n",
            "epoch 8900, loss: 0.00056\n",
            "epoch 9000, loss: 0.00056\n",
            "epoch 9100, loss: 0.00056\n",
            "epoch 9200, loss: 0.00056\n",
            "epoch 9300, loss: 0.00056\n",
            "epoch 9400, loss: 0.00056\n",
            "epoch 9500, loss: 0.00056\n",
            "epoch 9600, loss: 0.00056\n",
            "epoch 9700, loss: 0.00056\n",
            "epoch 9800, loss: 0.00056\n",
            "epoch 9900, loss: 0.00055\n",
            "epoch 10000, loss: 0.00056\n",
            "Finished Training\n"
          ]
        }
      ]
    },
    {
      "cell_type": "markdown",
      "metadata": {
        "id": "CZM_OnKRovRC"
      },
      "source": [
        "## Test"
      ]
    },
    {
      "cell_type": "code",
      "metadata": {
        "id": "WrJUDF6cowyU"
      },
      "source": [
        "net(torch.tensor(xs[[2],:], dtype=torch.float32))"
      ],
      "execution_count": null,
      "outputs": []
    },
    {
      "cell_type": "markdown",
      "metadata": {
        "id": "0EIuRZBRoc6o"
      },
      "source": [
        "# Reject Sampling"
      ]
    },
    {
      "cell_type": "code",
      "metadata": {
        "id": "3t4cmKtzbaCI"
      },
      "source": [
        "x = [0.83141085, 0.20049269, 0.83141085, 0.10996936]"
      ],
      "execution_count": null,
      "outputs": []
    },
    {
      "cell_type": "code",
      "metadata": {
        "colab": {
          "base_uri": "https://localhost:8080/"
        },
        "id": "MijtO4gieIdj",
        "outputId": "33148fa7-75b5-43ee-e88e-75fcaf8603cb"
      },
      "source": [
        "getPost(0, x[0], x[1], x[2], x[3])"
      ],
      "execution_count": null,
      "outputs": [
        {
          "output_type": "execute_result",
          "data": {
            "text/plain": [
              "(tensor(0.8124), tensor(0.1979), tensor(0.8365), tensor(0.1100))"
            ]
          },
          "metadata": {},
          "execution_count": 8
        }
      ]
    },
    {
      "cell_type": "code",
      "metadata": {
        "colab": {
          "base_uri": "https://localhost:8080/"
        },
        "id": "oxkvMbaJk8Fr",
        "outputId": "96f580fd-88b5-4999-feed-1dbf12e94cf4"
      },
      "source": [
        "getPost(1, x[0], x[1], x[2], x[3])"
      ],
      "execution_count": null,
      "outputs": [
        {
          "output_type": "execute_result",
          "data": {
            "text/plain": [
              "(tensor(0.8546), tensor(0.2011), tensor(0.8278), tensor(0.1112))"
            ]
          },
          "metadata": {},
          "execution_count": 30
        }
      ]
    },
    {
      "cell_type": "code",
      "metadata": {
        "id": "kOnwLtwjzQsn"
      },
      "source": [
        "p_m = torch.tensor(x[0], dtype=torch.float32, requires_grad=False)\n",
        "p_s = torch.tensor(x[1], dtype=torch.float32, requires_grad=False)\n",
        "i_m = torch.tensor(x[2], dtype=torch.float32, requires_grad=True)\n",
        "i_s = torch.tensor(x[3], dtype=torch.float32, requires_grad=False)\n",
        "\n",
        "p = 1/(1+torch.exp(-p_m+i_m))\n",
        "q = 1 - p\n",
        "\n",
        "norm = torch.distributions.normal.Normal(0, 1)\n",
        "abi = p_m + p_s * norm.sample([1000000])\n",
        "itm = i_m + i_s * norm.sample([1000000])\n",
        "\n",
        "ps = 1/(1+torch.exp(-abi+itm))\n",
        "qs = 1 - ps\n",
        "\n",
        "u = torch.distributions.uniform.Uniform(0,1)\n",
        "u1 = u.sample([1000000])\n",
        "u2 = u.sample([1000000])"
      ],
      "execution_count": null,
      "outputs": []
    },
    {
      "cell_type": "code",
      "metadata": {
        "colab": {
          "base_uri": "https://localhost:8080/"
        },
        "id": "4nJX7Dn66U6j",
        "outputId": "6e03ceea-6a7b-4ff9-b386-173c7e98762e"
      },
      "source": [
        "abi[u1<ps].mean()"
      ],
      "execution_count": null,
      "outputs": [
        {
          "output_type": "execute_result",
          "data": {
            "text/plain": [
              "tensor(0.8509)"
            ]
          },
          "metadata": {},
          "execution_count": 26
        }
      ]
    },
    {
      "cell_type": "code",
      "metadata": {
        "colab": {
          "base_uri": "https://localhost:8080/"
        },
        "id": "Fzs2d5syu_9Q",
        "outputId": "f5b1ec59-7d15-43d4-afde-27ceb8e6aaf2"
      },
      "source": [
        "abi[u1<ps].std()"
      ],
      "execution_count": null,
      "outputs": [
        {
          "output_type": "execute_result",
          "data": {
            "text/plain": [
              "tensor(0.1997)"
            ]
          },
          "metadata": {},
          "execution_count": 27
        }
      ]
    },
    {
      "cell_type": "code",
      "metadata": {
        "colab": {
          "base_uri": "https://localhost:8080/"
        },
        "id": "bYUltVK26Xm7",
        "outputId": "b1180d69-56e1-495a-eb3f-187cb963d0e4"
      },
      "source": [
        "abi[u2<qs].mean()"
      ],
      "execution_count": null,
      "outputs": [
        {
          "output_type": "execute_result",
          "data": {
            "text/plain": [
              "tensor(0.8113)"
            ]
          },
          "metadata": {},
          "execution_count": 28
        }
      ]
    },
    {
      "cell_type": "code",
      "metadata": {
        "colab": {
          "base_uri": "https://localhost:8080/"
        },
        "id": "v29_JJ_avCAY",
        "outputId": "3e8f47d7-c482-4339-d361-8e3d3ae01aab"
      },
      "source": [
        "abi[u2<qs].std()"
      ],
      "execution_count": null,
      "outputs": [
        {
          "output_type": "execute_result",
          "data": {
            "text/plain": [
              "tensor(0.1992)"
            ]
          },
          "metadata": {},
          "execution_count": 29
        }
      ]
    },
    {
      "cell_type": "code",
      "metadata": {
        "colab": {
          "base_uri": "https://localhost:8080/"
        },
        "id": "4BuNQS-iYMfs",
        "outputId": "311ed029-d9fe-4d14-be75-cd8553dbc5bd"
      },
      "source": [
        "for i in range(1000):\n",
        "  p_m = torch.tensor(x[0], dtype=torch.float32, requires_grad=False)\n",
        "  p_s = torch.tensor(x[1], dtype=torch.float32, requires_grad=False)\n",
        "  i_m = torch.tensor(x[2], dtype=torch.float32, requires_grad=True)\n",
        "  i_s = torch.tensor(x[3], dtype=torch.float32, requires_grad=False)\n",
        "\n",
        "  p = 1/(1+torch.exp(-p_m+i_m))\n",
        "  q = 1 - p\n",
        "\n",
        "  norm = torch.distributions.normal.Normal(0, 1)\n",
        "  abi = p_m + p_s * norm.sample([10000])\n",
        "  itm = i_m + i_s * norm.sample([10000])\n",
        "\n",
        "  ps = 1/(1+torch.exp(-abi+itm))\n",
        "  qs = 1 - ps\n",
        "\n",
        "  u = torch.distributions.uniform.Uniform(0,1)\n",
        "  u1 = u.sample([10000])\n",
        "  u2 = u.sample([10000])\n",
        "\n",
        "  loss1 = p*(abi[u1<ps].std()) + q*(abi[u2<qs].std())\n",
        "  #loss2 = p*(itm[u1<ps].std()) + q*(itm[u2<qs].std())\n",
        "\n",
        "  loss = loss1\n",
        "\n",
        "  loss.backward()\n",
        "\n",
        "  x[2] -= i_m.grad.numpy()\n",
        "  #x[3] += 10*i_s.grad.numpy()\n",
        "  #x[3] = min(x[3],1)\n",
        "  print(x)"
      ],
      "execution_count": null,
      "outputs": [
        {
          "output_type": "stream",
          "name": "stdout",
          "text": [
            "[0.83141085, 0.14749269, 0.036463844617203665, 0.12996936]\n",
            "[0.83141085, 0.14749269, 0.03638826781210149, 0.12996936]\n",
            "[0.83141085, 0.14749269, 0.03684334438551808, 0.12996936]\n",
            "[0.83141085, 0.14749269, 0.0366685298268137, 0.12996936]\n",
            "[0.83141085, 0.14749269, 0.0368472932368902, 0.12996936]\n",
            "[0.83141085, 0.14749269, 0.03690558507699528, 0.12996936]\n",
            "[0.83141085, 0.14749269, 0.03700081526952339, 0.12996936]\n",
            "[0.83141085, 0.14749269, 0.036667117443387486, 0.12996936]\n",
            "[0.83141085, 0.14749269, 0.036611969133475884, 0.12996936]\n",
            "[0.83141085, 0.14749269, 0.037087824648581534, 0.12996936]\n",
            "[0.83141085, 0.14749269, 0.03777163887755954, 0.12996936]\n",
            "[0.83141085, 0.14749269, 0.03805763700987221, 0.12996936]\n",
            "[0.83141085, 0.14749269, 0.03849746690141977, 0.12996936]\n",
            "[0.83141085, 0.14749269, 0.038461715745172785, 0.12996936]\n",
            "[0.83141085, 0.14749269, 0.038851096445826204, 0.12996936]\n",
            "[0.83141085, 0.14749269, 0.03916113987182392, 0.12996936]\n",
            "[0.83141085, 0.14749269, 0.03878770801205313, 0.12996936]\n",
            "[0.83141085, 0.14749269, 0.03886349813368064, 0.12996936]\n",
            "[0.83141085, 0.14749269, 0.03918464766869214, 0.12996936]\n",
            "[0.83141085, 0.14749269, 0.038711268132858766, 0.12996936]\n",
            "[0.83141085, 0.14749269, 0.038426718934745384, 0.12996936]\n",
            "[0.83141085, 0.14749269, 0.038916591989648384, 0.12996936]\n",
            "[0.83141085, 0.14749269, 0.03927579344420586, 0.12996936]\n",
            "[0.83141085, 0.14749269, 0.03947148180853468, 0.12996936]\n",
            "[0.83141085, 0.14749269, 0.03948330838105243, 0.12996936]\n",
            "[0.83141085, 0.14749269, 0.040221799568855875, 0.12996936]\n",
            "[0.83141085, 0.14749269, 0.03990793748747159, 0.12996936]\n",
            "[0.83141085, 0.14749269, 0.04020281578053322, 0.12996936]\n",
            "[0.83141085, 0.14749269, 0.04034418206359327, 0.12996936]\n",
            "[0.83141085, 0.14749269, 0.040516492892523036, 0.12996936]\n",
            "[0.83141085, 0.14749269, 0.04048694841188329, 0.12996936]\n",
            "[0.83141085, 0.14749269, 0.040814732747124015, 0.12996936]\n",
            "[0.83141085, 0.14749269, 0.04056675140603396, 0.12996936]\n",
            "[0.83141085, 0.14749269, 0.04143610540634903, 0.12996936]\n",
            "[0.83141085, 0.14749269, 0.04087887921926516, 0.12996936]\n",
            "[0.83141085, 0.14749269, 0.041000572855439475, 0.12996936]\n",
            "[0.83141085, 0.14749269, 0.04069860254097215, 0.12996936]\n",
            "[0.83141085, 0.14749269, 0.04093347116580184, 0.12996936]\n",
            "[0.83141085, 0.14749269, 0.040611210853997125, 0.12996936]\n",
            "[0.83141085, 0.14749269, 0.04036740982704281, 0.12996936]\n",
            "[0.83141085, 0.14749269, 0.04116560979312702, 0.12996936]\n",
            "[0.83141085, 0.14749269, 0.0409023447500956, 0.12996936]\n",
            "[0.83141085, 0.14749269, 0.04184457183149128, 0.12996936]\n",
            "[0.83141085, 0.14749269, 0.041732827914559255, 0.12996936]\n",
            "[0.83141085, 0.14749269, 0.041578938849882195, 0.12996936]\n",
            "[0.83141085, 0.14749269, 0.041197004655289436, 0.12996936]\n",
            "[0.83141085, 0.14749269, 0.0409854789759563, 0.12996936]\n",
            "[0.83141085, 0.14749269, 0.040763784345502006, 0.12996936]\n",
            "[0.83141085, 0.14749269, 0.04030528574370031, 0.12996936]\n",
            "[0.83141085, 0.14749269, 0.04014243462009539, 0.12996936]\n",
            "[0.83141085, 0.14749269, 0.03982326993721721, 0.12996936]\n",
            "[0.83141085, 0.14749269, 0.03939486038874087, 0.12996936]\n",
            "[0.83141085, 0.14749269, 0.039141298155330094, 0.12996936]\n",
            "[0.83141085, 0.14749269, 0.038756999885693165, 0.12996936]\n",
            "[0.83141085, 0.14749269, 0.038440772885253625, 0.12996936]\n",
            "[0.83141085, 0.14749269, 0.03863674485185833, 0.12996936]\n",
            "[0.83141085, 0.14749269, 0.03862706666862572, 0.12996936]\n",
            "[0.83141085, 0.14749269, 0.038044015721455014, 0.12996936]\n",
            "[0.83141085, 0.14749269, 0.03811193322784014, 0.12996936]\n",
            "[0.83141085, 0.14749269, 0.03769499719513327, 0.12996936]\n",
            "[0.83141085, 0.14749269, 0.036737018072956505, 0.12996936]\n",
            "[0.83141085, 0.14749269, 0.03676040410485506, 0.12996936]\n",
            "[0.83141085, 0.14749269, 0.036316659631695745, 0.12996936]\n",
            "[0.83141085, 0.14749269, 0.036019858710490314, 0.12996936]\n",
            "[0.83141085, 0.14749269, 0.03586541923417166, 0.12996936]\n",
            "[0.83141085, 0.14749269, 0.03596249263776621, 0.12996936]\n",
            "[0.83141085, 0.14749269, 0.03556162986481717, 0.12996936]\n",
            "[0.83141085, 0.14749269, 0.03597092718976704, 0.12996936]\n",
            "[0.83141085, 0.14749269, 0.03594551716835916, 0.12996936]\n",
            "[0.83141085, 0.14749269, 0.03616613967190709, 0.12996936]\n",
            "[0.83141085, 0.14749269, 0.03567712186216589, 0.12996936]\n",
            "[0.83141085, 0.14749269, 0.0352169029329459, 0.12996936]\n",
            "[0.83141085, 0.14749269, 0.03562234190488447, 0.12996936]\n",
            "[0.83141085, 0.14749269, 0.035838266730054545, 0.12996936]\n",
            "[0.83141085, 0.14749269, 0.03590443227315767, 0.12996936]\n",
            "[0.83141085, 0.14749269, 0.035652496856557934, 0.12996936]\n",
            "[0.83141085, 0.14749269, 0.03580603051980937, 0.12996936]\n",
            "[0.83141085, 0.14749269, 0.035647938178074344, 0.12996936]\n",
            "[0.83141085, 0.14749269, 0.03581549360117855, 0.12996936]\n",
            "[0.83141085, 0.14749269, 0.03628818229938837, 0.12996936]\n",
            "[0.83141085, 0.14749269, 0.036388199540881704, 0.12996936]\n",
            "[0.83141085, 0.14749269, 0.03686323237801183, 0.12996936]\n",
            "[0.83141085, 0.14749269, 0.036644743665449585, 0.12996936]\n",
            "[0.83141085, 0.14749269, 0.03698560507931028, 0.12996936]\n",
            "[0.83141085, 0.14749269, 0.03739268541997511, 0.12996936]\n",
            "[0.83141085, 0.14749269, 0.03728651491567938, 0.12996936]\n",
            "[0.83141085, 0.14749269, 0.036994643222926914, 0.12996936]\n",
            "[0.83141085, 0.14749269, 0.03649764002060032, 0.12996936]\n",
            "[0.83141085, 0.14749269, 0.0357281551160056, 0.12996936]\n",
            "[0.83141085, 0.14749269, 0.03611815581555924, 0.12996936]\n",
            "[0.83141085, 0.14749269, 0.035693767572440936, 0.12996936]\n",
            "[0.83141085, 0.14749269, 0.035289826341825335, 0.12996936]\n",
            "[0.83141085, 0.14749269, 0.034835133415101825, 0.12996936]\n",
            "[0.83141085, 0.14749269, 0.035748588449707984, 0.12996936]\n",
            "[0.83141085, 0.14749269, 0.035953406423716604, 0.12996936]\n",
            "[0.83141085, 0.14749269, 0.03529899893786272, 0.12996936]\n",
            "[0.83141085, 0.14749269, 0.035365482993286367, 0.12996936]\n",
            "[0.83141085, 0.14749269, 0.03452970119272571, 0.12996936]\n",
            "[0.83141085, 0.14749269, 0.03537708378010642, 0.12996936]\n",
            "[0.83141085, 0.14749269, 0.03526270689784063, 0.12996936]\n",
            "[0.83141085, 0.14749269, 0.03538302901600467, 0.12996936]\n",
            "[0.83141085, 0.14749269, 0.03553637784082888, 0.12996936]\n",
            "[0.83141085, 0.14749269, 0.035749514941046744, 0.12996936]\n",
            "[0.83141085, 0.14749269, 0.0355890090768596, 0.12996936]\n",
            "[0.83141085, 0.14749269, 0.035800436035999826, 0.12996936]\n",
            "[0.83141085, 0.14749269, 0.035510369188189304, 0.12996936]\n",
            "[0.83141085, 0.14749269, 0.035585724018376584, 0.12996936]\n",
            "[0.83141085, 0.14749269, 0.03564247799752842, 0.12996936]\n",
            "[0.83141085, 0.14749269, 0.03540201942908674, 0.12996936]\n",
            "[0.83141085, 0.14749269, 0.034786136043324166, 0.12996936]\n",
            "[0.83141085, 0.14749269, 0.034684519153445524, 0.12996936]\n",
            "[0.83141085, 0.14749269, 0.03485072734568597, 0.12996936]\n",
            "[0.83141085, 0.14749269, 0.034726447164787476, 0.12996936]\n",
            "[0.83141085, 0.14749269, 0.03482626813004821, 0.12996936]\n",
            "[0.83141085, 0.14749269, 0.03507280589204378, 0.12996936]\n",
            "[0.83141085, 0.14749269, 0.03528295626986868, 0.12996936]\n",
            "[0.83141085, 0.14749269, 0.03555924949708491, 0.12996936]\n",
            "[0.83141085, 0.14749269, 0.03553982301949212, 0.12996936]\n",
            "[0.83141085, 0.14749269, 0.035687153506871926, 0.12996936]\n",
            "[0.83141085, 0.14749269, 0.03609450989736864, 0.12996936]\n",
            "[0.83141085, 0.14749269, 0.03602028796288572, 0.12996936]\n",
            "[0.83141085, 0.14749269, 0.03562604849415287, 0.12996936]\n",
            "[0.83141085, 0.14749269, 0.035880278398538155, 0.12996936]\n",
            "[0.83141085, 0.14749269, 0.03590353872189802, 0.12996936]\n",
            "[0.83141085, 0.14749269, 0.03587539939056363, 0.12996936]\n",
            "[0.83141085, 0.14749269, 0.03562744188551072, 0.12996936]\n",
            "[0.83141085, 0.14749269, 0.0354955651100979, 0.12996936]\n",
            "[0.83141085, 0.14749269, 0.03516281679643065, 0.12996936]\n",
            "[0.83141085, 0.14749269, 0.034908972983460206, 0.12996936]\n",
            "[0.83141085, 0.14749269, 0.035610500094692486, 0.12996936]\n",
            "[0.83141085, 0.14749269, 0.03615637718488209, 0.12996936]\n",
            "[0.83141085, 0.14749269, 0.03598112577768255, 0.12996936]\n",
            "[0.83141085, 0.14749269, 0.035722519210169355, 0.12996936]\n",
            "[0.83141085, 0.14749269, 0.03486021770825822, 0.12996936]\n",
            "[0.83141085, 0.14749269, 0.03546715300493155, 0.12996936]\n",
            "[0.83141085, 0.14749269, 0.03527626297457822, 0.12996936]\n",
            "[0.83141085, 0.14749269, 0.035148499239797036, 0.12996936]\n",
            "[0.83141085, 0.14749269, 0.035192491705886585, 0.12996936]\n",
            "[0.83141085, 0.14749269, 0.03520926606600618, 0.12996936]\n",
            "[0.83141085, 0.14749269, 0.03474717183147071, 0.12996936]\n",
            "[0.83141085, 0.14749269, 0.03463727438523414, 0.12996936]\n",
            "[0.83141085, 0.14749269, 0.03495643086083213, 0.12996936]\n",
            "[0.83141085, 0.14749269, 0.03501550133390332, 0.12996936]\n",
            "[0.83141085, 0.14749269, 0.03559902812870199, 0.12996936]\n",
            "[0.83141085, 0.14749269, 0.0361225453280283, 0.12996936]\n",
            "[0.83141085, 0.14749269, 0.03625904501407853, 0.12996936]\n",
            "[0.83141085, 0.14749269, 0.03653526143628618, 0.12996936]\n",
            "[0.83141085, 0.14749269, 0.03677652289209867, 0.12996936]\n",
            "[0.83141085, 0.14749269, 0.036551547983465514, 0.12996936]\n",
            "[0.83141085, 0.14749269, 0.037138089993307165, 0.12996936]\n",
            "[0.83141085, 0.14749269, 0.03618371113137322, 0.12996936]\n",
            "[0.83141085, 0.14749269, 0.036656545406942985, 0.12996936]\n",
            "[0.83141085, 0.14749269, 0.036859290577042646, 0.12996936]\n",
            "[0.83141085, 0.14749269, 0.036724116774196534, 0.12996936]\n",
            "[0.83141085, 0.14749269, 0.03686089341229739, 0.12996936]\n",
            "[0.83141085, 0.14749269, 0.03707526157543974, 0.12996936]\n",
            "[0.83141085, 0.14749269, 0.03703042250802604, 0.12996936]\n",
            "[0.83141085, 0.14749269, 0.037561764679624264, 0.12996936]\n",
            "[0.83141085, 0.14749269, 0.03755136516522974, 0.12996936]\n",
            "[0.83141085, 0.14749269, 0.03724087298727021, 0.12996936]\n",
            "[0.83141085, 0.14749269, 0.03722902441043765, 0.12996936]\n",
            "[0.83141085, 0.14749269, 0.037319266803053995, 0.12996936]\n",
            "[0.83141085, 0.14749269, 0.038047929685519864, 0.12996936]\n",
            "[0.83141085, 0.14749269, 0.03759156133858845, 0.12996936]\n",
            "[0.83141085, 0.14749269, 0.0379429122968147, 0.12996936]\n",
            "[0.83141085, 0.14749269, 0.03810631518538934, 0.12996936]\n",
            "[0.83141085, 0.14749269, 0.03762404926058729, 0.12996936]\n",
            "[0.83141085, 0.14749269, 0.037218899668034953, 0.12996936]\n",
            "[0.83141085, 0.14749269, 0.03694048433502097, 0.12996936]\n",
            "[0.83141085, 0.14749269, 0.036681365569195566, 0.12996936]\n",
            "[0.83141085, 0.14749269, 0.03681177781075597, 0.12996936]\n",
            "[0.83141085, 0.14749269, 0.03665865916812685, 0.12996936]\n",
            "[0.83141085, 0.14749269, 0.03652712701117047, 0.12996936]\n",
            "[0.83141085, 0.14749269, 0.036159332388736164, 0.12996936]\n",
            "[0.83141085, 0.14749269, 0.03627330561542543, 0.12996936]\n",
            "[0.83141085, 0.14749269, 0.035978952530088225, 0.12996936]\n",
            "[0.83141085, 0.14749269, 0.03652951324150557, 0.12996936]\n",
            "[0.83141085, 0.14749269, 0.03643268374983812, 0.12996936]\n",
            "[0.83141085, 0.14749269, 0.036737609325457686, 0.12996936]\n",
            "[0.83141085, 0.14749269, 0.03691778275791215, 0.12996936]\n",
            "[0.83141085, 0.14749269, 0.037087705617552945, 0.12996936]\n",
            "[0.83141085, 0.14749269, 0.03738550974779422, 0.12996936]\n",
            "[0.83141085, 0.14749269, 0.03728124677403024, 0.12996936]\n",
            "[0.83141085, 0.14749269, 0.037164164792586905, 0.12996936]\n",
            "[0.83141085, 0.14749269, 0.037093398013924105, 0.12996936]\n",
            "[0.83141085, 0.14749269, 0.03809094879946564, 0.12996936]\n",
            "[0.83141085, 0.14749269, 0.03786003989628874, 0.12996936]\n",
            "[0.83141085, 0.14749269, 0.037633493526330074, 0.12996936]\n",
            "[0.83141085, 0.14749269, 0.03733891252889656, 0.12996936]\n",
            "[0.83141085, 0.14749269, 0.03775211389987156, 0.12996936]\n",
            "[0.83141085, 0.14749269, 0.0376260518806091, 0.12996936]\n",
            "[0.83141085, 0.14749269, 0.037913443300597226, 0.12996936]\n",
            "[0.83141085, 0.14749269, 0.0377292627800059, 0.12996936]\n",
            "[0.83141085, 0.14749269, 0.037771547222321476, 0.12996936]\n",
            "[0.83141085, 0.14749269, 0.037117674373833086, 0.12996936]\n",
            "[0.83141085, 0.14749269, 0.03662359977355003, 0.12996936]\n",
            "[0.83141085, 0.14749269, 0.03757380433128923, 0.12996936]\n",
            "[0.83141085, 0.14749269, 0.037165483381643515, 0.12996936]\n",
            "[0.83141085, 0.14749269, 0.036721626334867995, 0.12996936]\n",
            "[0.83141085, 0.14749269, 0.036477965239130515, 0.12996936]\n",
            "[0.83141085, 0.14749269, 0.036254360131381634, 0.12996936]\n",
            "[0.83141085, 0.14749269, 0.0366115979504982, 0.12996936]\n",
            "[0.83141085, 0.14749269, 0.035994401341697756, 0.12996936]\n",
            "[0.83141085, 0.14749269, 0.035519423190665055, 0.12996936]\n",
            "[0.83141085, 0.14749269, 0.03554596858705985, 0.12996936]\n",
            "[0.83141085, 0.14749269, 0.03548491516088028, 0.12996936]\n",
            "[0.83141085, 0.14749269, 0.03633050035389964, 0.12996936]\n",
            "[0.83141085, 0.14749269, 0.03617119831145168, 0.12996936]\n",
            "[0.83141085, 0.14749269, 0.03638516257163495, 0.12996936]\n",
            "[0.83141085, 0.14749269, 0.03682474045311459, 0.12996936]\n",
            "[0.83141085, 0.14749269, 0.03688787078684321, 0.12996936]\n",
            "[0.83141085, 0.14749269, 0.03703330555257047, 0.12996936]\n",
            "[0.83141085, 0.14749269, 0.036381748670494506, 0.12996936]\n",
            "[0.83141085, 0.14749269, 0.03655344143592878, 0.12996936]\n",
            "[0.83141085, 0.14749269, 0.036913916503210874, 0.12996936]\n",
            "[0.83141085, 0.14749269, 0.03686961039241645, 0.12996936]\n",
            "[0.83141085, 0.14749269, 0.03678377533836532, 0.12996936]\n",
            "[0.83141085, 0.14749269, 0.037349684536850634, 0.12996936]\n",
            "[0.83141085, 0.14749269, 0.03744425664084041, 0.12996936]\n",
            "[0.83141085, 0.14749269, 0.03772566041337335, 0.12996936]\n",
            "[0.83141085, 0.14749269, 0.03658810681557292, 0.12996936]\n",
            "[0.83141085, 0.14749269, 0.03676286940938802, 0.12996936]\n",
            "[0.83141085, 0.14749269, 0.03742003232949422, 0.12996936]\n",
            "[0.83141085, 0.14749269, 0.037018814693540424, 0.12996936]\n",
            "[0.83141085, 0.14749269, 0.037294484283877626, 0.12996936]\n",
            "[0.83141085, 0.14749269, 0.03779654322900818, 0.12996936]\n",
            "[0.83141085, 0.14749269, 0.03754286527876751, 0.12996936]\n",
            "[0.83141085, 0.14749269, 0.037256789672058165, 0.12996936]\n",
            "[0.83141085, 0.14749269, 0.03732876327743064, 0.12996936]\n",
            "[0.83141085, 0.14749269, 0.03744448643740974, 0.12996936]\n",
            "[0.83141085, 0.14749269, 0.0371337224878814, 0.12996936]\n",
            "[0.83141085, 0.14749269, 0.03728986888930443, 0.12996936]\n",
            "[0.83141085, 0.14749269, 0.03754466756984833, 0.12996936]\n",
            "[0.83141085, 0.14749269, 0.03754675384883079, 0.12996936]\n",
            "[0.83141085, 0.14749269, 0.03761314421174824, 0.12996936]\n",
            "[0.83141085, 0.14749269, 0.03719227363220192, 0.12996936]\n",
            "[0.83141085, 0.14749269, 0.036879312692720066, 0.12996936]\n",
            "[0.83141085, 0.14749269, 0.03642175935422778, 0.12996936]\n",
            "[0.83141085, 0.14749269, 0.03646031839710553, 0.12996936]\n",
            "[0.83141085, 0.14749269, 0.036553629184739055, 0.12996936]\n",
            "[0.83141085, 0.14749269, 0.03674197877083565, 0.12996936]\n",
            "[0.83141085, 0.14749269, 0.03686921921874522, 0.12996936]\n",
            "[0.83141085, 0.14749269, 0.03647413463298357, 0.12996936]\n",
            "[0.83141085, 0.14749269, 0.03626443814394655, 0.12996936]\n",
            "[0.83141085, 0.14749269, 0.035954547134708935, 0.12996936]\n",
            "[0.83141085, 0.14749269, 0.036584372070167535, 0.12996936]\n",
            "[0.83141085, 0.14749269, 0.03716292414722624, 0.12996936]\n",
            "[0.83141085, 0.14749269, 0.037314223072856055, 0.12996936]\n",
            "[0.83141085, 0.14749269, 0.0376961482743652, 0.12996936]\n",
            "[0.83141085, 0.14749269, 0.03790061850125561, 0.12996936]\n",
            "[0.83141085, 0.14749269, 0.03766022963648787, 0.12996936]\n",
            "[0.83141085, 0.14749269, 0.03777046857251911, 0.12996936]\n",
            "[0.83141085, 0.14749269, 0.03784539570736591, 0.12996936]\n",
            "[0.83141085, 0.14749269, 0.03813293867099923, 0.12996936]\n",
            "[0.83141085, 0.14749269, 0.037772865382096586, 0.12996936]\n",
            "[0.83141085, 0.14749269, 0.03814209188388553, 0.12996936]\n",
            "[0.83141085, 0.14749269, 0.0381233399002965, 0.12996936]\n",
            "[0.83141085, 0.14749269, 0.038533250617577085, 0.12996936]\n",
            "[0.83141085, 0.14749269, 0.03849149349665162, 0.12996936]\n",
            "[0.83141085, 0.14749269, 0.039214163201934514, 0.12996936]\n",
            "[0.83141085, 0.14749269, 0.03943587640063264, 0.12996936]\n",
            "[0.83141085, 0.14749269, 0.03926365323244021, 0.12996936]\n",
            "[0.83141085, 0.14749269, 0.03929990065629021, 0.12996936]\n",
            "[0.83141085, 0.14749269, 0.03903709848057837, 0.12996936]\n",
            "[0.83141085, 0.14749269, 0.03888229127736189, 0.12996936]\n",
            "[0.83141085, 0.14749269, 0.03931839654799909, 0.12996936]\n",
            "[0.83141085, 0.14749269, 0.03958498906107046, 0.12996936]\n",
            "[0.83141085, 0.14749269, 0.03896181161511116, 0.12996936]\n",
            "[0.83141085, 0.14749269, 0.03891245577145377, 0.12996936]\n",
            "[0.83141085, 0.14749269, 0.03831553923558453, 0.12996936]\n",
            "[0.83141085, 0.14749269, 0.03848038405888723, 0.12996936]\n",
            "[0.83141085, 0.14749269, 0.037936369788469836, 0.12996936]\n",
            "[0.83141085, 0.14749269, 0.037848023757790304, 0.12996936]\n",
            "[0.83141085, 0.14749269, 0.03799219799296474, 0.12996936]\n",
            "[0.83141085, 0.14749269, 0.03781326537321796, 0.12996936]\n",
            "[0.83141085, 0.14749269, 0.03758898840354299, 0.12996936]\n",
            "[0.83141085, 0.14749269, 0.037532932698043385, 0.12996936]\n",
            "[0.83141085, 0.14749269, 0.037412091986000394, 0.12996936]\n",
            "[0.83141085, 0.14749269, 0.03766864676257022, 0.12996936]\n",
            "[0.83141085, 0.14749269, 0.03687785890181907, 0.12996936]\n",
            "[0.83141085, 0.14749269, 0.03640625167284519, 0.12996936]\n",
            "[0.83141085, 0.14749269, 0.03653215704074022, 0.12996936]\n",
            "[0.83141085, 0.14749269, 0.03650801272127204, 0.12996936]\n",
            "[0.83141085, 0.14749269, 0.036267207206067485, 0.12996936]\n",
            "[0.83141085, 0.14749269, 0.03627627000062852, 0.12996936]\n",
            "[0.83141085, 0.14749269, 0.03642039065565108, 0.12996936]\n",
            "[0.83141085, 0.14749269, 0.036358314258934786, 0.12996936]\n",
            "[0.83141085, 0.14749269, 0.036742972572058295, 0.12996936]\n",
            "[0.83141085, 0.14749269, 0.03639765248047546, 0.12996936]\n",
            "[0.83141085, 0.14749269, 0.036449863515402046, 0.12996936]\n",
            "[0.83141085, 0.14749269, 0.03586958430062872, 0.12996936]\n",
            "[0.83141085, 0.14749269, 0.03612640153554161, 0.12996936]\n",
            "[0.83141085, 0.14749269, 0.03591562775366832, 0.12996936]\n",
            "[0.83141085, 0.14749269, 0.03592453608328718, 0.12996936]\n",
            "[0.83141085, 0.14749269, 0.03613879969091862, 0.12996936]\n",
            "[0.83141085, 0.14749269, 0.03613330096826097, 0.12996936]\n",
            "[0.83141085, 0.14749269, 0.035653632647638676, 0.12996936]\n",
            "[0.83141085, 0.14749269, 0.03550226991186058, 0.12996936]\n",
            "[0.83141085, 0.14749269, 0.03577751659443742, 0.12996936]\n",
            "[0.83141085, 0.14749269, 0.03620453209853871, 0.12996936]\n",
            "[0.83141085, 0.14749269, 0.036021402822855396, 0.12996936]\n",
            "[0.83141085, 0.14749269, 0.036152983146651184, 0.12996936]\n",
            "[0.83141085, 0.14749269, 0.03631846938927332, 0.12996936]\n",
            "[0.83141085, 0.14749269, 0.0359133405477521, 0.12996936]\n",
            "[0.83141085, 0.14749269, 0.03604446207876457, 0.12996936]\n",
            "[0.83141085, 0.14749269, 0.036153117053375115, 0.12996936]\n",
            "[0.83141085, 0.14749269, 0.036475959587308114, 0.12996936]\n",
            "[0.83141085, 0.14749269, 0.036765787463566756, 0.12996936]\n",
            "[0.83141085, 0.14749269, 0.03684847309026076, 0.12996936]\n",
            "[0.83141085, 0.14749269, 0.036506125751232264, 0.12996936]\n",
            "[0.83141085, 0.14749269, 0.03633569917704584, 0.12996936]\n",
            "[0.83141085, 0.14749269, 0.03642493391501624, 0.12996936]\n",
            "[0.83141085, 0.14749269, 0.03658286203838792, 0.12996936]\n",
            "[0.83141085, 0.14749269, 0.03621549725042563, 0.12996936]\n",
            "[0.83141085, 0.14749269, 0.03618236664672871, 0.12996936]\n",
            "[0.83141085, 0.14749269, 0.036192562762637624, 0.12996936]\n",
            "[0.83141085, 0.14749269, 0.035563875437703917, 0.12996936]\n",
            "[0.83141085, 0.14749269, 0.035371059694200756, 0.12996936]\n",
            "[0.83141085, 0.14749269, 0.035602012471402066, 0.12996936]\n",
            "[0.83141085, 0.14749269, 0.035610635605310324, 0.12996936]\n",
            "[0.83141085, 0.14749269, 0.035321103569488276, 0.12996936]\n",
            "[0.83141085, 0.14749269, 0.03528200511621684, 0.12996936]\n",
            "[0.83141085, 0.14749269, 0.03513619569688011, 0.12996936]\n",
            "[0.83141085, 0.14749269, 0.03564695208891202, 0.12996936]\n",
            "[0.83141085, 0.14749269, 0.035457118629467675, 0.12996936]\n",
            "[0.83141085, 0.14749269, 0.035276620572888294, 0.12996936]\n",
            "[0.83141085, 0.14749269, 0.03561198759101238, 0.12996936]\n",
            "[0.83141085, 0.14749269, 0.03525630831112061, 0.12996936]\n",
            "[0.83141085, 0.14749269, 0.035435321068264546, 0.12996936]\n",
            "[0.83141085, 0.14749269, 0.03564592489831988, 0.12996936]\n",
            "[0.83141085, 0.14749269, 0.03542366722516157, 0.12996936]\n",
            "[0.83141085, 0.14749269, 0.03561042961931229, 0.12996936]\n",
            "[0.83141085, 0.14749269, 0.03570154907041136, 0.12996936]\n",
            "[0.83141085, 0.14749269, 0.03557426605814975, 0.12996936]\n",
            "[0.83141085, 0.14749269, 0.035346146466083826, 0.12996936]\n",
            "[0.83141085, 0.14749269, 0.03513501026876178, 0.12996936]\n",
            "[0.83141085, 0.14749269, 0.034661472844648177, 0.12996936]\n",
            "[0.83141085, 0.14749269, 0.03464747201863496, 0.12996936]\n",
            "[0.83141085, 0.14749269, 0.034268018809173316, 0.12996936]\n",
            "[0.83141085, 0.14749269, 0.03393635048044665, 0.12996936]\n",
            "[0.83141085, 0.14749269, 0.03432109357302828, 0.12996936]\n",
            "[0.83141085, 0.14749269, 0.03454914009992784, 0.12996936]\n",
            "[0.83141085, 0.14749269, 0.03448241959770961, 0.12996936]\n",
            "[0.83141085, 0.14749269, 0.03425404322254757, 0.12996936]\n",
            "[0.83141085, 0.14749269, 0.03470482130572485, 0.12996936]\n",
            "[0.83141085, 0.14749269, 0.0341369216962746, 0.12996936]\n",
            "[0.83141085, 0.14749269, 0.03378392657535436, 0.12996936]\n",
            "[0.83141085, 0.14749269, 0.033427459687602766, 0.12996936]\n",
            "[0.83141085, 0.14749269, 0.03423640053873236, 0.12996936]\n",
            "[0.83141085, 0.14749269, 0.03423472530519824, 0.12996936]\n",
            "[0.83141085, 0.14749269, 0.034493770525644084, 0.12996936]\n",
            "[0.83141085, 0.14749269, 0.03497181389210049, 0.12996936]\n",
            "[0.83141085, 0.14749269, 0.03501641943037861, 0.12996936]\n",
            "[0.83141085, 0.14749269, 0.03527112375630417, 0.12996936]\n",
            "[0.83141085, 0.14749269, 0.03509723980713055, 0.12996936]\n",
            "[0.83141085, 0.14749269, 0.03531499540875551, 0.12996936]\n",
            "[0.83141085, 0.14749269, 0.03525155314744801, 0.12996936]\n",
            "[0.83141085, 0.14749269, 0.035248035400884635, 0.12996936]\n",
            "[0.83141085, 0.14749269, 0.0350699233781895, 0.12996936]\n",
            "[0.83141085, 0.14749269, 0.034780766607157364, 0.12996936]\n",
            "[0.83141085, 0.14749269, 0.035330021371494456, 0.12996936]\n",
            "[0.83141085, 0.14749269, 0.035778844259341656, 0.12996936]\n",
            "[0.83141085, 0.14749269, 0.03613447577984765, 0.12996936]\n",
            "[0.83141085, 0.14749269, 0.03642598745821737, 0.12996936]\n",
            "[0.83141085, 0.14749269, 0.036298928283515795, 0.12996936]\n",
            "[0.83141085, 0.14749269, 0.03635320031711011, 0.12996936]\n",
            "[0.83141085, 0.14749269, 0.037155031335289766, 0.12996936]\n",
            "[0.83141085, 0.14749269, 0.037303228010871624, 0.12996936]\n",
            "[0.83141085, 0.14749269, 0.037065832344099124, 0.12996936]\n",
            "[0.83141085, 0.14749269, 0.037003807904996154, 0.12996936]\n",
            "[0.83141085, 0.14749269, 0.037037264602561425, 0.12996936]\n",
            "[0.83141085, 0.14749269, 0.036556637077894936, 0.12996936]\n",
            "[0.83141085, 0.14749269, 0.03624837250711856, 0.12996936]\n",
            "[0.83141085, 0.14749269, 0.035484363255393635, 0.12996936]\n",
            "[0.83141085, 0.14749269, 0.03620018872928334, 0.12996936]\n",
            "[0.83141085, 0.14749269, 0.03618311099993001, 0.12996936]\n",
            "[0.83141085, 0.14749269, 0.03654001342650439, 0.12996936]\n",
            "[0.83141085, 0.14749269, 0.03746389409346442, 0.12996936]\n",
            "[0.83141085, 0.14749269, 0.03725961747980613, 0.12996936]\n",
            "[0.83141085, 0.14749269, 0.0370593370694521, 0.12996936]\n",
            "[0.83141085, 0.14749269, 0.03707116886337893, 0.12996936]\n",
            "[0.83141085, 0.14749269, 0.03746633787935274, 0.12996936]\n",
            "[0.83141085, 0.14749269, 0.03745727737035189, 0.12996936]\n",
            "[0.83141085, 0.14749269, 0.037992743438310515, 0.12996936]\n",
            "[0.83141085, 0.14749269, 0.03767121363265027, 0.12996936]\n",
            "[0.83141085, 0.14749269, 0.03821248341185559, 0.12996936]\n",
            "[0.83141085, 0.14749269, 0.03823139567933389, 0.12996936]\n",
            "[0.83141085, 0.14749269, 0.03838011590372183, 0.12996936]\n",
            "[0.83141085, 0.14749269, 0.038172732543473774, 0.12996936]\n",
            "[0.83141085, 0.14749269, 0.038162212392792515, 0.12996936]\n",
            "[0.83141085, 0.14749269, 0.03780353803770844, 0.12996936]\n",
            "[0.83141085, 0.14749269, 0.037886827998165916, 0.12996936]\n",
            "[0.83141085, 0.14749269, 0.03746295826889103, 0.12996936]\n",
            "[0.83141085, 0.14749269, 0.03738338499127416, 0.12996936]\n",
            "[0.83141085, 0.14749269, 0.03814377943084104, 0.12996936]\n",
            "[0.83141085, 0.14749269, 0.038890315324836354, 0.12996936]\n",
            "[0.83141085, 0.14749269, 0.03912933632412454, 0.12996936]\n",
            "[0.83141085, 0.14749269, 0.038501662394567336, 0.12996936]\n",
            "[0.83141085, 0.14749269, 0.03846697547445068, 0.12996936]\n",
            "[0.83141085, 0.14749269, 0.03927946920478711, 0.12996936]\n",
            "[0.83141085, 0.14749269, 0.03831472198683763, 0.12996936]\n",
            "[0.83141085, 0.14749269, 0.03839528918209247, 0.12996936]\n",
            "[0.83141085, 0.14749269, 0.03872504303174786, 0.12996936]\n",
            "[0.83141085, 0.14749269, 0.03896514544206433, 0.12996936]\n",
            "[0.83141085, 0.14749269, 0.03930369688490167, 0.12996936]\n",
            "[0.83141085, 0.14749269, 0.03967251951283537, 0.12996936]\n",
            "[0.83141085, 0.14749269, 0.03956189318299288, 0.12996936]\n",
            "[0.83141085, 0.14749269, 0.039336387682426664, 0.12996936]\n",
            "[0.83141085, 0.14749269, 0.03944263599581312, 0.12996936]\n",
            "[0.83141085, 0.14749269, 0.03971402400523651, 0.12996936]\n",
            "[0.83141085, 0.14749269, 0.03994200129412342, 0.12996936]\n",
            "[0.83141085, 0.14749269, 0.03971560329549242, 0.12996936]\n",
            "[0.83141085, 0.14749269, 0.03956387735846214, 0.12996936]\n",
            "[0.83141085, 0.14749269, 0.03985693337338738, 0.12996936]\n",
            "[0.83141085, 0.14749269, 0.039833129697883794, 0.12996936]\n",
            "[0.83141085, 0.14749269, 0.039720897833406286, 0.12996936]\n",
            "[0.83141085, 0.14749269, 0.04019976070552069, 0.12996936]\n",
            "[0.83141085, 0.14749269, 0.04029600469360297, 0.12996936]\n",
            "[0.83141085, 0.14749269, 0.0404033787940832, 0.12996936]\n",
            "[0.83141085, 0.14749269, 0.04028288387920178, 0.12996936]\n",
            "[0.83141085, 0.14749269, 0.0394926726817473, 0.12996936]\n",
            "[0.83141085, 0.14749269, 0.03944988373180671, 0.12996936]\n",
            "[0.83141085, 0.14749269, 0.03936547101105383, 0.12996936]\n",
            "[0.83141085, 0.14749269, 0.040026319640249074, 0.12996936]\n",
            "[0.83141085, 0.14749269, 0.039884224015197776, 0.12996936]\n",
            "[0.83141085, 0.14749269, 0.04068629845781537, 0.12996936]\n",
            "[0.83141085, 0.14749269, 0.04074208373052237, 0.12996936]\n",
            "[0.83141085, 0.14749269, 0.04103554481255991, 0.12996936]\n",
            "[0.83141085, 0.14749269, 0.04085441082273313, 0.12996936]\n",
            "[0.83141085, 0.14749269, 0.040223671037467955, 0.12996936]\n",
            "[0.83141085, 0.14749269, 0.039766615112542, 0.12996936]\n",
            "[0.83141085, 0.14749269, 0.03981997010990448, 0.12996936]\n",
            "[0.83141085, 0.14749269, 0.03998671502043429, 0.12996936]\n",
            "[0.83141085, 0.14749269, 0.039490516480812164, 0.12996936]\n",
            "[0.83141085, 0.14749269, 0.039430267342625246, 0.12996936]\n",
            "[0.83141085, 0.14749269, 0.039883682640295536, 0.12996936]\n",
            "[0.83141085, 0.14749269, 0.03951237480717531, 0.12996936]\n",
            "[0.83141085, 0.14749269, 0.03958396201554273, 0.12996936]\n",
            "[0.83141085, 0.14749269, 0.03925281994227838, 0.12996936]\n",
            "[0.83141085, 0.14749269, 0.03898823850389157, 0.12996936]\n",
            "[0.83141085, 0.14749269, 0.038748150630938415, 0.12996936]\n",
            "[0.83141085, 0.14749269, 0.038244365188377503, 0.12996936]\n",
            "[0.83141085, 0.14749269, 0.03838091352148034, 0.12996936]\n",
            "[0.83141085, 0.14749269, 0.038636194219664265, 0.12996936]\n",
            "[0.83141085, 0.14749269, 0.039173550697826375, 0.12996936]\n",
            "[0.83141085, 0.14749269, 0.03928899630912632, 0.12996936]\n",
            "[0.83141085, 0.14749269, 0.03928836329990439, 0.12996936]\n",
            "[0.83141085, 0.14749269, 0.039192321772618686, 0.12996936]\n",
            "[0.83141085, 0.14749269, 0.03917533664437791, 0.12996936]\n",
            "[0.83141085, 0.14749269, 0.03910545607735252, 0.12996936]\n",
            "[0.83141085, 0.14749269, 0.03936800560271216, 0.12996936]\n",
            "[0.83141085, 0.14749269, 0.03865543667282758, 0.12996936]\n",
            "[0.83141085, 0.14749269, 0.03827840024544706, 0.12996936]\n",
            "[0.83141085, 0.14749269, 0.03793314525913296, 0.12996936]\n",
            "[0.83141085, 0.14749269, 0.03842155316900311, 0.12996936]\n",
            "[0.83141085, 0.14749269, 0.03875820718761382, 0.12996936]\n",
            "[0.83141085, 0.14749269, 0.03832003193613922, 0.12996936]\n",
            "[0.83141085, 0.14749269, 0.03828212277815759, 0.12996936]\n",
            "[0.83141085, 0.14749269, 0.03809023397710256, 0.12996936]\n",
            "[0.83141085, 0.14749269, 0.03848642104506574, 0.12996936]\n",
            "[0.83141085, 0.14749269, 0.038289809667305906, 0.12996936]\n",
            "[0.83141085, 0.14749269, 0.03793158458805259, 0.12996936]\n",
            "[0.83141085, 0.14749269, 0.03835472008589271, 0.12996936]\n",
            "[0.83141085, 0.14749269, 0.038629259894635413, 0.12996936]\n",
            "[0.83141085, 0.14749269, 0.03845554845841683, 0.12996936]\n",
            "[0.83141085, 0.14749269, 0.03870937894183293, 0.12996936]\n",
            "[0.83141085, 0.14749269, 0.0386547282965082, 0.12996936]\n",
            "[0.83141085, 0.14749269, 0.038207224248738146, 0.12996936]\n",
            "[0.83141085, 0.14749269, 0.03805534475989838, 0.12996936]\n",
            "[0.83141085, 0.14749269, 0.03806217680269832, 0.12996936]\n",
            "[0.83141085, 0.14749269, 0.03813117166012738, 0.12996936]\n",
            "[0.83141085, 0.14749269, 0.03867871587593321, 0.12996936]\n",
            "[0.83141085, 0.14749269, 0.039387005320379774, 0.12996936]\n",
            "[0.83141085, 0.14749269, 0.03899118414577309, 0.12996936]\n",
            "[0.83141085, 0.14749269, 0.03866246866258074, 0.12996936]\n",
            "[0.83141085, 0.14749269, 0.03833013740680393, 0.12996936]\n",
            "[0.83141085, 0.14749269, 0.038693040199207406, 0.12996936]\n",
            "[0.83141085, 0.14749269, 0.038179647524005066, 0.12996936]\n",
            "[0.83141085, 0.14749269, 0.03837789152479012, 0.12996936]\n",
            "[0.83141085, 0.14749269, 0.03914960991554175, 0.12996936]\n",
            "[0.83141085, 0.14749269, 0.038910252315902415, 0.12996936]\n",
            "[0.83141085, 0.14749269, 0.038439025008331316, 0.12996936]\n",
            "[0.83141085, 0.14749269, 0.03809602475397036, 0.12996936]\n",
            "[0.83141085, 0.14749269, 0.03879485638484106, 0.12996936]\n",
            "[0.83141085, 0.14749269, 0.038712308819442785, 0.12996936]\n",
            "[0.83141085, 0.14749269, 0.039238880465775526, 0.12996936]\n",
            "[0.83141085, 0.14749269, 0.03900446050559616, 0.12996936]\n",
            "[0.83141085, 0.14749269, 0.03918349337348694, 0.12996936]\n",
            "[0.83141085, 0.14749269, 0.039009528282834015, 0.12996936]\n",
            "[0.83141085, 0.14749269, 0.03971398370507153, 0.12996936]\n",
            "[0.83141085, 0.14749269, 0.03971664085023143, 0.12996936]\n",
            "[0.83141085, 0.14749269, 0.03993831926985216, 0.12996936]\n",
            "[0.83141085, 0.14749269, 0.039778883480751336, 0.12996936]\n",
            "[0.83141085, 0.14749269, 0.03969603671342405, 0.12996936]\n",
            "[0.83141085, 0.14749269, 0.03932283026282015, 0.12996936]\n",
            "[0.83141085, 0.14749269, 0.03949662866128414, 0.12996936]\n",
            "[0.83141085, 0.14749269, 0.039804282342659224, 0.12996936]\n",
            "[0.83141085, 0.14749269, 0.03989567716692612, 0.12996936]\n",
            "[0.83141085, 0.14749269, 0.03979731770144348, 0.12996936]\n",
            "[0.83141085, 0.14749269, 0.03956576785916035, 0.12996936]\n",
            "[0.83141085, 0.14749269, 0.03986708284267728, 0.12996936]\n",
            "[0.83141085, 0.14749269, 0.03995060706714206, 0.12996936]\n",
            "[0.83141085, 0.14749269, 0.03922594124654346, 0.12996936]\n",
            "[0.83141085, 0.14749269, 0.039663052403768904, 0.12996936]\n",
            "[0.83141085, 0.14749269, 0.039023891716199376, 0.12996936]\n",
            "[0.83141085, 0.14749269, 0.03895485906017051, 0.12996936]\n",
            "[0.83141085, 0.14749269, 0.03926590229005591, 0.12996936]\n",
            "[0.83141085, 0.14749269, 0.03913867495342196, 0.12996936]\n",
            "[0.83141085, 0.14749269, 0.039066074837167196, 0.12996936]\n",
            "[0.83141085, 0.14749269, 0.039579101677220695, 0.12996936]\n",
            "[0.83141085, 0.14749269, 0.03911017610428893, 0.12996936]\n",
            "[0.83141085, 0.14749269, 0.03882716335559302, 0.12996936]\n",
            "[0.83141085, 0.14749269, 0.039009524595742494, 0.12996936]\n",
            "[0.83141085, 0.14749269, 0.038618155143042475, 0.12996936]\n",
            "[0.83141085, 0.14749269, 0.03872871518163514, 0.12996936]\n",
            "[0.83141085, 0.14749269, 0.03816043768805024, 0.12996936]\n",
            "[0.83141085, 0.14749269, 0.03765188096352425, 0.12996936]\n",
            "[0.83141085, 0.14749269, 0.037736207762493666, 0.12996936]\n",
            "[0.83141085, 0.14749269, 0.03790934950578297, 0.12996936]\n",
            "[0.83141085, 0.14749269, 0.0377167463657613, 0.12996936]\n",
            "[0.83141085, 0.14749269, 0.03806587093916527, 0.12996936]\n",
            "[0.83141085, 0.14749269, 0.038436681707965124, 0.12996936]\n",
            "[0.83141085, 0.14749269, 0.03756786793295099, 0.12996936]\n",
            "[0.83141085, 0.14749269, 0.03693237159225895, 0.12996936]\n",
            "[0.83141085, 0.14749269, 0.037465431704761375, 0.12996936]\n",
            "[0.83141085, 0.14749269, 0.03729294663119866, 0.12996936]\n",
            "[0.83141085, 0.14749269, 0.0370430130342654, 0.12996936]\n",
            "[0.83141085, 0.14749269, 0.03691960407653163, 0.12996936]\n",
            "[0.83141085, 0.14749269, 0.03659485058509084, 0.12996936]\n",
            "[0.83141085, 0.14749269, 0.03634717698790404, 0.12996936]\n",
            "[0.83141085, 0.14749269, 0.036267937407531224, 0.12996936]\n",
            "[0.83141085, 0.14749269, 0.03694955674203151, 0.12996936]\n",
            "[0.83141085, 0.14749269, 0.036753458610321775, 0.12996936]\n",
            "[0.83141085, 0.14749269, 0.03632030007341449, 0.12996936]\n",
            "[0.83141085, 0.14749269, 0.03621343488251363, 0.12996936]\n",
            "[0.83141085, 0.14749269, 0.03653373656473626, 0.12996936]\n",
            "[0.83141085, 0.14749269, 0.03627700501150024, 0.12996936]\n",
            "[0.83141085, 0.14749269, 0.036800720233288974, 0.12996936]\n",
            "[0.83141085, 0.14749269, 0.03696062232396138, 0.12996936]\n",
            "[0.83141085, 0.14749269, 0.037054832361748356, 0.12996936]\n",
            "[0.83141085, 0.14749269, 0.036920204386690546, 0.12996936]\n",
            "[0.83141085, 0.14749269, 0.036871889503375076, 0.12996936]\n",
            "[0.83141085, 0.14749269, 0.03744908953288608, 0.12996936]\n",
            "[0.83141085, 0.14749269, 0.03747260964431256, 0.12996936]\n",
            "[0.83141085, 0.14749269, 0.03697772118451461, 0.12996936]\n",
            "[0.83141085, 0.14749269, 0.03682786706034016, 0.12996936]\n",
            "[0.83141085, 0.14749269, 0.03692087779475763, 0.12996936]\n",
            "[0.83141085, 0.14749269, 0.03765576499702796, 0.12996936]\n",
            "[0.83141085, 0.14749269, 0.037940168996131195, 0.12996936]\n",
            "[0.83141085, 0.14749269, 0.03804476373173451, 0.12996936]\n",
            "[0.83141085, 0.14749269, 0.038319207585148195, 0.12996936]\n",
            "[0.83141085, 0.14749269, 0.03886605237770049, 0.12996936]\n",
            "[0.83141085, 0.14749269, 0.039385411221731136, 0.12996936]\n",
            "[0.83141085, 0.14749269, 0.039520013672729636, 0.12996936]\n",
            "[0.83141085, 0.14749269, 0.03981419350296413, 0.12996936]\n",
            "[0.83141085, 0.14749269, 0.03997722239276549, 0.12996936]\n",
            "[0.83141085, 0.14749269, 0.03973609852531148, 0.12996936]\n",
            "[0.83141085, 0.14749269, 0.03986215887110369, 0.12996936]\n",
            "[0.83141085, 0.14749269, 0.04026800849809, 0.12996936]\n",
            "[0.83141085, 0.14749269, 0.03975595844079429, 0.12996936]\n",
            "[0.83141085, 0.14749269, 0.04005830858935291, 0.12996936]\n",
            "[0.83141085, 0.14749269, 0.04006219728674545, 0.12996936]\n",
            "[0.83141085, 0.14749269, 0.039750886767281134, 0.12996936]\n",
            "[0.83141085, 0.14749269, 0.03878037262532665, 0.12996936]\n",
            "[0.83141085, 0.14749269, 0.03879476283330654, 0.12996936]\n",
            "[0.83141085, 0.14749269, 0.03836647441497256, 0.12996936]\n",
            "[0.83141085, 0.14749269, 0.03778671813782488, 0.12996936]\n",
            "[0.83141085, 0.14749269, 0.03742269470242967, 0.12996936]\n",
            "[0.83141085, 0.14749269, 0.03783554813711156, 0.12996936]\n",
            "[0.83141085, 0.14749269, 0.038033753618977005, 0.12996936]\n",
            "[0.83141085, 0.14749269, 0.03798403477779424, 0.12996936]\n",
            "[0.83141085, 0.14749269, 0.0379882240054328, 0.12996936]\n",
            "[0.83141085, 0.14749269, 0.03815054324198421, 0.12996936]\n",
            "[0.83141085, 0.14749269, 0.03854743910463434, 0.12996936]\n",
            "[0.83141085, 0.14749269, 0.03930207901842799, 0.12996936]\n",
            "[0.83141085, 0.14749269, 0.03909909946062975, 0.12996936]\n",
            "[0.83141085, 0.14749269, 0.039583553382301705, 0.12996936]\n",
            "[0.83141085, 0.14749269, 0.03950928485986218, 0.12996936]\n",
            "[0.83141085, 0.14749269, 0.039563705777739176, 0.12996936]\n",
            "[0.83141085, 0.14749269, 0.039424576429639945, 0.12996936]\n",
            "[0.83141085, 0.14749269, 0.03954025675605657, 0.12996936]\n",
            "[0.83141085, 0.14749269, 0.039105881882763004, 0.12996936]\n",
            "[0.83141085, 0.14749269, 0.03890889218431106, 0.12996936]\n",
            "[0.83141085, 0.14749269, 0.03843155976622505, 0.12996936]\n",
            "[0.83141085, 0.14749269, 0.0378612589743468, 0.12996936]\n",
            "[0.83141085, 0.14749269, 0.037786220626487864, 0.12996936]\n",
            "[0.83141085, 0.14749269, 0.03777478498571576, 0.12996936]\n",
            "[0.83141085, 0.14749269, 0.037893109336921714, 0.12996936]\n",
            "[0.83141085, 0.14749269, 0.037804889340379975, 0.12996936]\n",
            "[0.83141085, 0.14749269, 0.0385646634609045, 0.12996936]\n",
            "[0.83141085, 0.14749269, 0.03825389604802034, 0.12996936]\n",
            "[0.83141085, 0.14749269, 0.03810737001961819, 0.12996936]\n",
            "[0.83141085, 0.14749269, 0.03813218699227285, 0.12996936]\n",
            "[0.83141085, 0.14749269, 0.03795108785428305, 0.12996936]\n",
            "[0.83141085, 0.14749269, 0.03790928557512665, 0.12996936]\n",
            "[0.83141085, 0.14749269, 0.037433091553368956, 0.12996936]\n",
            "[0.83141085, 0.14749269, 0.037541285981690396, 0.12996936]\n",
            "[0.83141085, 0.14749269, 0.03766564467017155, 0.12996936]\n",
            "[0.83141085, 0.14749269, 0.037162138275137056, 0.12996936]\n",
            "[0.83141085, 0.14749269, 0.03734832378771238, 0.12996936]\n",
            "[0.83141085, 0.14749269, 0.03745982122430427, 0.12996936]\n",
            "[0.83141085, 0.14749269, 0.03714335274938343, 0.12996936]\n",
            "[0.83141085, 0.14749269, 0.03656370101319475, 0.12996936]\n",
            "[0.83141085, 0.14749269, 0.036995736229557895, 0.12996936]\n",
            "[0.83141085, 0.14749269, 0.037672435445104145, 0.12996936]\n",
            "[0.83141085, 0.14749269, 0.03795469102854689, 0.12996936]\n",
            "[0.83141085, 0.14749269, 0.03783551188328851, 0.12996936]\n",
            "[0.83141085, 0.14749269, 0.037924960134235096, 0.12996936]\n",
            "[0.83141085, 0.14749269, 0.037249416806419265, 0.12996936]\n",
            "[0.83141085, 0.14749269, 0.03709643259438302, 0.12996936]\n",
            "[0.83141085, 0.14749269, 0.036477120195316036, 0.12996936]\n",
            "[0.83141085, 0.14749269, 0.03641319016108604, 0.12996936]\n",
            "[0.83141085, 0.14749269, 0.036381350472340944, 0.12996936]\n",
            "[0.83141085, 0.14749269, 0.03643747643812525, 0.12996936]\n",
            "[0.83141085, 0.14749269, 0.03571900420368614, 0.12996936]\n",
            "[0.83141085, 0.14749269, 0.03520153582806664, 0.12996936]\n",
            "[0.83141085, 0.14749269, 0.03563444672048057, 0.12996936]\n",
            "[0.83141085, 0.14749269, 0.03542159540532588, 0.12996936]\n",
            "[0.83141085, 0.14749269, 0.03530864354846266, 0.12996936]\n",
            "[0.83141085, 0.14749269, 0.03513449216419098, 0.12996936]\n",
            "[0.83141085, 0.14749269, 0.03550061849685584, 0.12996936]\n",
            "[0.83141085, 0.14749269, 0.0352485299941079, 0.12996936]\n",
            "[0.83141085, 0.14749269, 0.03569577487226774, 0.12996936]\n",
            "[0.83141085, 0.14749269, 0.035577814762775904, 0.12996936]\n",
            "[0.83141085, 0.14749269, 0.03545174450712942, 0.12996936]\n",
            "[0.83141085, 0.14749269, 0.03528162208252319, 0.12996936]\n",
            "[0.83141085, 0.14749269, 0.035152932380272194, 0.12996936]\n",
            "[0.83141085, 0.14749269, 0.03475973509060417, 0.12996936]\n",
            "[0.83141085, 0.14749269, 0.034826224719411346, 0.12996936]\n",
            "[0.83141085, 0.14749269, 0.0347212199617686, 0.12996936]\n",
            "[0.83141085, 0.14749269, 0.034502020882912564, 0.12996936]\n",
            "[0.83141085, 0.14749269, 0.03379602231737657, 0.12996936]\n",
            "[0.83141085, 0.14749269, 0.033870760371912854, 0.12996936]\n",
            "[0.83141085, 0.14749269, 0.0339141732279429, 0.12996936]\n",
            "[0.83141085, 0.14749269, 0.03349547973133007, 0.12996936]\n",
            "[0.83141085, 0.14749269, 0.03358514179356711, 0.12996936]\n",
            "[0.83141085, 0.14749269, 0.03395865540599765, 0.12996936]\n",
            "[0.83141085, 0.14749269, 0.033307284555605964, 0.12996936]\n",
            "[0.83141085, 0.14749269, 0.033272129795052695, 0.12996936]\n",
            "[0.83141085, 0.14749269, 0.03321122141872614, 0.12996936]\n",
            "[0.83141085, 0.14749269, 0.033072699918677916, 0.12996936]\n",
            "[0.83141085, 0.14749269, 0.03297134991092456, 0.12996936]\n",
            "[0.83141085, 0.14749269, 0.0332281628966782, 0.12996936]\n",
            "[0.83141085, 0.14749269, 0.03340396331853548, 0.12996936]\n",
            "[0.83141085, 0.14749269, 0.03415841976178193, 0.12996936]\n",
            "[0.83141085, 0.14749269, 0.033842263076196775, 0.12996936]\n",
            "[0.83141085, 0.14749269, 0.03386767497116374, 0.12996936]\n",
            "[0.83141085, 0.14749269, 0.033070952548344155, 0.12996936]\n",
            "[0.83141085, 0.14749269, 0.03342405707056308, 0.12996936]\n",
            "[0.83141085, 0.14749269, 0.033763616524568295, 0.12996936]\n",
            "[0.83141085, 0.14749269, 0.03407026658945391, 0.12996936]\n",
            "[0.83141085, 0.14749269, 0.03392939307789924, 0.12996936]\n",
            "[0.83141085, 0.14749269, 0.03352628299447382, 0.12996936]\n",
            "[0.83141085, 0.14749269, 0.03415468708092952, 0.12996936]\n",
            "[0.83141085, 0.14749269, 0.03395197409966635, 0.12996936]\n",
            "[0.83141085, 0.14749269, 0.03304500141942548, 0.12996936]\n",
            "[0.83141085, 0.14749269, 0.03335376872976916, 0.12996936]\n",
            "[0.83141085, 0.14749269, 0.032637222179376056, 0.12996936]\n",
            "[0.83141085, 0.14749269, 0.03219811452848511, 0.12996936]\n",
            "[0.83141085, 0.14749269, 0.03189343205716135, 0.12996936]\n",
            "[0.83141085, 0.14749269, 0.031941170477268986, 0.12996936]\n",
            "[0.83141085, 0.14749269, 0.03184383003875404, 0.12996936]\n",
            "[0.83141085, 0.14749269, 0.03136626353855967, 0.12996936]\n",
            "[0.83141085, 0.14749269, 0.03090398146790243, 0.12996936]\n",
            "[0.83141085, 0.14749269, 0.031498164106353886, 0.12996936]\n",
            "[0.83141085, 0.14749269, 0.03136522489561024, 0.12996936]\n",
            "[0.83141085, 0.14749269, 0.030730919658283472, 0.12996936]\n",
            "[0.83141085, 0.14749269, 0.0313682554774757, 0.12996936]\n",
            "[0.83141085, 0.14749269, 0.030756704662537902, 0.12996936]\n",
            "[0.83141085, 0.14749269, 0.030908917899553433, 0.12996936]\n",
            "[0.83141085, 0.14749269, 0.03049596321264538, 0.12996936]\n",
            "[0.83141085, 0.14749269, 0.030333138471662767, 0.12996936]\n",
            "[0.83141085, 0.14749269, 0.030502427478980042, 0.12996936]\n",
            "[0.83141085, 0.14749269, 0.02994945277944929, 0.12996936]\n",
            "[0.83141085, 0.14749269, 0.029674715239282466, 0.12996936]\n",
            "[0.83141085, 0.14749269, 0.02904425147474534, 0.12996936]\n",
            "[0.83141085, 0.14749269, 0.028982303971618183, 0.12996936]\n",
            "[0.83141085, 0.14749269, 0.029156699973584853, 0.12996936]\n",
            "[0.83141085, 0.14749269, 0.02908548850294459, 0.12996936]\n",
            "[0.83141085, 0.14749269, 0.029377552688431695, 0.12996936]\n",
            "[0.83141085, 0.14749269, 0.02922717107188213, 0.12996936]\n",
            "[0.83141085, 0.14749269, 0.02916303762370511, 0.12996936]\n",
            "[0.83141085, 0.14749269, 0.02912742861784203, 0.12996936]\n",
            "[0.83141085, 0.14749269, 0.029417608941487504, 0.12996936]\n",
            "[0.83141085, 0.14749269, 0.03012618581536366, 0.12996936]\n",
            "[0.83141085, 0.14749269, 0.030444723106968684, 0.12996936]\n",
            "[0.83141085, 0.14749269, 0.030325257951092442, 0.12996936]\n",
            "[0.83141085, 0.14749269, 0.03070976707798103, 0.12996936]\n",
            "[0.83141085, 0.14749269, 0.03101169298000308, 0.12996936]\n",
            "[0.83141085, 0.14749269, 0.0312868029036806, 0.12996936]\n",
            "[0.83141085, 0.14749269, 0.030996769758105745, 0.12996936]\n",
            "[0.83141085, 0.14749269, 0.03138118266773084, 0.12996936]\n",
            "[0.83141085, 0.14749269, 0.03079937759733433, 0.12996936]\n",
            "[0.83141085, 0.14749269, 0.03137986228515068, 0.12996936]\n",
            "[0.83141085, 0.14749269, 0.03140883634526539, 0.12996936]\n",
            "[0.83141085, 0.14749269, 0.031244641817950412, 0.12996936]\n",
            "[0.83141085, 0.14749269, 0.0308139704361863, 0.12996936]\n",
            "[0.83141085, 0.14749269, 0.030909455920239214, 0.12996936]\n",
            "[0.83141085, 0.14749269, 0.031259498137417484, 0.12996936]\n",
            "[0.83141085, 0.14749269, 0.03194062515152176, 0.12996936]\n",
            "[0.83141085, 0.14749269, 0.03153721011816082, 0.12996936]\n",
            "[0.83141085, 0.14749269, 0.03217674316013721, 0.12996936]\n",
            "[0.83141085, 0.14749269, 0.03235202073168033, 0.12996936]\n",
            "[0.83141085, 0.14749269, 0.03266664719606773, 0.12996936]\n",
            "[0.83141085, 0.14749269, 0.03311148405239941, 0.12996936]\n",
            "[0.83141085, 0.14749269, 0.03318243585138838, 0.12996936]\n",
            "[0.83141085, 0.14749269, 0.03365903616261925, 0.12996936]\n",
            "[0.83141085, 0.14749269, 0.03464833403316583, 0.12996936]\n",
            "[0.83141085, 0.14749269, 0.03495222092218022, 0.12996936]\n",
            "[0.83141085, 0.14749269, 0.03505806694059423, 0.12996936]\n",
            "[0.83141085, 0.14749269, 0.034768601814478405, 0.12996936]\n",
            "[0.83141085, 0.14749269, 0.0348055505569689, 0.12996936]\n",
            "[0.83141085, 0.14749269, 0.0349333681047326, 0.12996936]\n",
            "[0.83141085, 0.14749269, 0.03499721294477489, 0.12996936]\n",
            "[0.83141085, 0.14749269, 0.034638829919033685, 0.12996936]\n",
            "[0.83141085, 0.14749269, 0.03428718149055634, 0.12996936]\n",
            "[0.83141085, 0.14749269, 0.03433262107549375, 0.12996936]\n",
            "[0.83141085, 0.14749269, 0.03416237922331924, 0.12996936]\n",
            "[0.83141085, 0.14749269, 0.0334864046349437, 0.12996936]\n",
            "[0.83141085, 0.14749269, 0.03421959444361413, 0.12996936]\n",
            "[0.83141085, 0.14749269, 0.03386940260364348, 0.12996936]\n",
            "[0.83141085, 0.14749269, 0.03319151548615331, 0.12996936]\n",
            "[0.83141085, 0.14749269, 0.03327657410093956, 0.12996936]\n",
            "[0.83141085, 0.14749269, 0.03332498190187174, 0.12996936]\n",
            "[0.83141085, 0.14749269, 0.033595679539332866, 0.12996936]\n",
            "[0.83141085, 0.14749269, 0.03398620448618452, 0.12996936]\n",
            "[0.83141085, 0.14749269, 0.034279419175193414, 0.12996936]\n",
            "[0.83141085, 0.14749269, 0.034616679543007865, 0.12996936]\n",
            "[0.83141085, 0.14749269, 0.03496437407059851, 0.12996936]\n",
            "[0.83141085, 0.14749269, 0.03524816662732768, 0.12996936]\n",
            "[0.83141085, 0.14749269, 0.035832312984469115, 0.12996936]\n",
            "[0.83141085, 0.14749269, 0.035958178276389606, 0.12996936]\n",
            "[0.83141085, 0.14749269, 0.035905876925001155, 0.12996936]\n",
            "[0.83141085, 0.14749269, 0.03590696890970115, 0.12996936]\n",
            "[0.83141085, 0.14749269, 0.03587364420892094, 0.12996936]\n",
            "[0.83141085, 0.14749269, 0.03656014937806298, 0.12996936]\n",
            "[0.83141085, 0.14749269, 0.03598339737291802, 0.12996936]\n",
            "[0.83141085, 0.14749269, 0.03641780929538776, 0.12996936]\n",
            "[0.83141085, 0.14749269, 0.0367327034568077, 0.12996936]\n",
            "[0.83141085, 0.14749269, 0.03627009388074633, 0.12996936]\n",
            "[0.83141085, 0.14749269, 0.03646341135973465, 0.12996936]\n",
            "[0.83141085, 0.14749269, 0.03646068082267242, 0.12996936]\n",
            "[0.83141085, 0.14749269, 0.03678738363046954, 0.12996936]\n",
            "[0.83141085, 0.14749269, 0.0365153026879468, 0.12996936]\n",
            "[0.83141085, 0.14749269, 0.036644620901968426, 0.12996936]\n",
            "[0.83141085, 0.14749269, 0.036973572504537276, 0.12996936]\n",
            "[0.83141085, 0.14749269, 0.036853728329477, 0.12996936]\n",
            "[0.83141085, 0.14749269, 0.036717155796539135, 0.12996936]\n",
            "[0.83141085, 0.14749269, 0.036761678992804935, 0.12996936]\n",
            "[0.83141085, 0.14749269, 0.03696087094900371, 0.12996936]\n",
            "[0.83141085, 0.14749269, 0.03675936417599381, 0.12996936]\n",
            "[0.83141085, 0.14749269, 0.037014996593968806, 0.12996936]\n",
            "[0.83141085, 0.14749269, 0.036878840580500526, 0.12996936]\n",
            "[0.83141085, 0.14749269, 0.03714359728215435, 0.12996936]\n",
            "[0.83141085, 0.14749269, 0.037438050339149175, 0.12996936]\n",
            "[0.83141085, 0.14749269, 0.03757128569591963, 0.12996936]\n",
            "[0.83141085, 0.14749269, 0.037907390903599424, 0.12996936]\n",
            "[0.83141085, 0.14749269, 0.0378413877162145, 0.12996936]\n",
            "[0.83141085, 0.14749269, 0.037874688842892044, 0.12996936]\n",
            "[0.83141085, 0.14749269, 0.03806982973506614, 0.12996936]\n",
            "[0.83141085, 0.14749269, 0.03818321734903087, 0.12996936]\n",
            "[0.83141085, 0.14749269, 0.03774521049231929, 0.12996936]\n",
            "[0.83141085, 0.14749269, 0.03761426340966658, 0.12996936]\n",
            "[0.83141085, 0.14749269, 0.03810933790114881, 0.12996936]\n",
            "[0.83141085, 0.14749269, 0.037704430481569705, 0.12996936]\n",
            "[0.83141085, 0.14749269, 0.037307789917720345, 0.12996936]\n",
            "[0.83141085, 0.14749269, 0.03693225172642791, 0.12996936]\n",
            "[0.83141085, 0.14749269, 0.036063451804837075, 0.12996936]\n",
            "[0.83141085, 0.14749269, 0.03577614053679803, 0.12996936]\n",
            "[0.83141085, 0.14749269, 0.03579857940272426, 0.12996936]\n",
            "[0.83141085, 0.14749269, 0.035670707445349524, 0.12996936]\n",
            "[0.83141085, 0.14749269, 0.03588541661807334, 0.12996936]\n",
            "[0.83141085, 0.14749269, 0.03588831578295661, 0.12996936]\n",
            "[0.83141085, 0.14749269, 0.03520075624024479, 0.12996936]\n",
            "[0.83141085, 0.14749269, 0.035521417325669734, 0.12996936]\n",
            "[0.83141085, 0.14749269, 0.03578221372359416, 0.12996936]\n",
            "[0.83141085, 0.14749269, 0.03605121568458138, 0.12996936]\n",
            "[0.83141085, 0.14749269, 0.03626764489368519, 0.12996936]\n",
            "[0.83141085, 0.14749269, 0.03640766794765817, 0.12996936]\n",
            "[0.83141085, 0.14749269, 0.03628029028973991, 0.12996936]\n",
            "[0.83141085, 0.14749269, 0.03605681690592768, 0.12996936]\n",
            "[0.83141085, 0.14749269, 0.03601518181372534, 0.12996936]\n",
            "[0.83141085, 0.14749269, 0.03649698728682573, 0.12996936]\n",
            "[0.83141085, 0.14749269, 0.036782359162914634, 0.12996936]\n",
            "[0.83141085, 0.14749269, 0.03633442047854054, 0.12996936]\n",
            "[0.83141085, 0.14749269, 0.03661094493568975, 0.12996936]\n",
            "[0.83141085, 0.14749269, 0.036420342829531126, 0.12996936]\n",
            "[0.83141085, 0.14749269, 0.03585662864193886, 0.12996936]\n",
            "[0.83141085, 0.14749269, 0.03546897816400609, 0.12996936]\n",
            "[0.83141085, 0.14749269, 0.035350737653659724, 0.12996936]\n",
            "[0.83141085, 0.14749269, 0.03460141349629133, 0.12996936]\n",
            "[0.83141085, 0.14749269, 0.033502803151948445, 0.12996936]\n",
            "[0.83141085, 0.14749269, 0.033733091736082986, 0.12996936]\n",
            "[0.83141085, 0.14749269, 0.03416441562572594, 0.12996936]\n",
            "[0.83141085, 0.14749269, 0.03396317291176978, 0.12996936]\n",
            "[0.83141085, 0.14749269, 0.033839237582158364, 0.12996936]\n",
            "[0.83141085, 0.14749269, 0.03422792587358139, 0.12996936]\n",
            "[0.83141085, 0.14749269, 0.03397028534951254, 0.12996936]\n",
            "[0.83141085, 0.14749269, 0.03439552528712533, 0.12996936]\n",
            "[0.83141085, 0.14749269, 0.034736246857080676, 0.12996936]\n",
            "[0.83141085, 0.14749269, 0.03551896841659776, 0.12996936]\n",
            "[0.83141085, 0.14749269, 0.035300807747860506, 0.12996936]\n",
            "[0.83141085, 0.14749269, 0.035704966675127923, 0.12996936]\n",
            "[0.83141085, 0.14749269, 0.03579578608756286, 0.12996936]\n",
            "[0.83141085, 0.14749269, 0.03566498005662446, 0.12996936]\n",
            "[0.83141085, 0.14749269, 0.03590148494245817, 0.12996936]\n",
            "[0.83141085, 0.14749269, 0.035320291459954876, 0.12996936]\n",
            "[0.83141085, 0.14749269, 0.03494247822223564, 0.12996936]\n",
            "[0.83141085, 0.14749269, 0.03475518171458838, 0.12996936]\n",
            "[0.83141085, 0.14749269, 0.03470666379931366, 0.12996936]\n",
            "[0.83141085, 0.14749269, 0.03448010954221694, 0.12996936]\n",
            "[0.83141085, 0.14749269, 0.03447824587195349, 0.12996936]\n",
            "[0.83141085, 0.14749269, 0.03386335644020868, 0.12996936]\n",
            "[0.83141085, 0.14749269, 0.03441912365227175, 0.12996936]\n",
            "[0.83141085, 0.14749269, 0.03463608939049003, 0.12996936]\n",
            "[0.83141085, 0.14749269, 0.034194884110122746, 0.12996936]\n",
            "[0.83141085, 0.14749269, 0.03456020694423636, 0.12996936]\n",
            "[0.83141085, 0.14749269, 0.03448021988290997, 0.12996936]\n",
            "[0.83141085, 0.14749269, 0.0344711089606178, 0.12996936]\n",
            "[0.83141085, 0.14749269, 0.03501451059540408, 0.12996936]\n",
            "[0.83141085, 0.14749269, 0.035026965238587525, 0.12996936]\n",
            "[0.83141085, 0.14749269, 0.03441969792541635, 0.12996936]\n",
            "[0.83141085, 0.14749269, 0.034604292768138055, 0.12996936]\n",
            "[0.83141085, 0.14749269, 0.03403396060233057, 0.12996936]\n",
            "[0.83141085, 0.14749269, 0.03381487598883972, 0.12996936]\n",
            "[0.83141085, 0.14749269, 0.03420058716213383, 0.12996936]\n",
            "[0.83141085, 0.14749269, 0.03438464017884393, 0.12996936]\n",
            "[0.83141085, 0.14749269, 0.03402206727835868, 0.12996936]\n",
            "[0.83141085, 0.14749269, 0.033449107269491594, 0.12996936]\n",
            "[0.83141085, 0.14749269, 0.033691232337817144, 0.12996936]\n",
            "[0.83141085, 0.14749269, 0.03361165763411258, 0.12996936]\n",
            "[0.83141085, 0.14749269, 0.0331462921581376, 0.12996936]\n",
            "[0.83141085, 0.14749269, 0.03257564345907007, 0.12996936]\n",
            "[0.83141085, 0.14749269, 0.0325588952887599, 0.12996936]\n",
            "[0.83141085, 0.14749269, 0.03241210418266995, 0.12996936]\n",
            "[0.83141085, 0.14749269, 0.03186592190971418, 0.12996936]\n",
            "[0.83141085, 0.14749269, 0.031353467716628745, 0.12996936]\n",
            "[0.83141085, 0.14749269, 0.03157260378569184, 0.12996936]\n",
            "[0.83141085, 0.14749269, 0.03173539958291507, 0.12996936]\n",
            "[0.83141085, 0.14749269, 0.03150338768821961, 0.12996936]\n",
            "[0.83141085, 0.14749269, 0.031200739632852435, 0.12996936]\n",
            "[0.83141085, 0.14749269, 0.030816102449109838, 0.12996936]\n",
            "[0.83141085, 0.14749269, 0.030621689603806533, 0.12996936]\n",
            "[0.83141085, 0.14749269, 0.03079274979748583, 0.12996936]\n",
            "[0.83141085, 0.14749269, 0.031061316685311556, 0.12996936]\n",
            "[0.83141085, 0.14749269, 0.031304592882891245, 0.12996936]\n",
            "[0.83141085, 0.14749269, 0.030998901410869383, 0.12996936]\n",
            "[0.83141085, 0.14749269, 0.030776043776798122, 0.12996936]\n",
            "[0.83141085, 0.14749269, 0.03132582863830315, 0.12996936]\n",
            "[0.83141085, 0.14749269, 0.031209035934382644, 0.12996936]\n",
            "[0.83141085, 0.14749269, 0.03135090716890112, 0.12996936]\n",
            "[0.83141085, 0.14749269, 0.03107833087918401, 0.12996936]\n",
            "[0.83141085, 0.14749269, 0.031799877525857244, 0.12996936]\n",
            "[0.83141085, 0.14749269, 0.03109372529209644, 0.12996936]\n",
            "[0.83141085, 0.14749269, 0.03153332770810515, 0.12996936]\n",
            "[0.83141085, 0.14749269, 0.03143572500042204, 0.12996936]\n",
            "[0.83141085, 0.14749269, 0.031651125767469, 0.12996936]\n",
            "[0.83141085, 0.14749269, 0.03217814788288955, 0.12996936]\n",
            "[0.83141085, 0.14749269, 0.03272622661964555, 0.12996936]\n",
            "[0.83141085, 0.14749269, 0.033335244935672324, 0.12996936]\n",
            "[0.83141085, 0.14749269, 0.032938369241976705, 0.12996936]\n",
            "[0.83141085, 0.14749269, 0.03261962225727324, 0.12996936]\n",
            "[0.83141085, 0.14749269, 0.03247956927001063, 0.12996936]\n",
            "[0.83141085, 0.14749269, 0.03206019142592844, 0.12996936]\n",
            "[0.83141085, 0.14749269, 0.03137328410005715, 0.12996936]\n",
            "[0.83141085, 0.14749269, 0.03188840595024225, 0.12996936]\n",
            "[0.83141085, 0.14749269, 0.03136437460264709, 0.12996936]\n",
            "[0.83141085, 0.14749269, 0.0313285126408416, 0.12996936]\n",
            "[0.83141085, 0.14749269, 0.030995473579908082, 0.12996936]\n",
            "[0.83141085, 0.14749269, 0.03045413616340078, 0.12996936]\n",
            "[0.83141085, 0.14749269, 0.030432838638746705, 0.12996936]\n",
            "[0.83141085, 0.14749269, 0.03016895097747032, 0.12996936]\n",
            "[0.83141085, 0.14749269, 0.029919754958912324, 0.12996936]\n",
            "[0.83141085, 0.14749269, 0.029558019142798674, 0.12996936]\n",
            "[0.83141085, 0.14749269, 0.029707006380279143, 0.12996936]\n",
            "[0.83141085, 0.14749269, 0.029858442123015937, 0.12996936]\n",
            "[0.83141085, 0.14749269, 0.02961893753448088, 0.12996936]\n",
            "[0.83141085, 0.14749269, 0.02979609611569025, 0.12996936]\n",
            "[0.83141085, 0.14749269, 0.029764205615295157, 0.12996936]\n",
            "[0.83141085, 0.14749269, 0.029608236776341744, 0.12996936]\n",
            "[0.83141085, 0.14749269, 0.02978283681071183, 0.12996936]\n",
            "[0.83141085, 0.14749269, 0.02988248975228338, 0.12996936]\n",
            "[0.83141085, 0.14749269, 0.029939296278401105, 0.12996936]\n",
            "[0.83141085, 0.14749269, 0.029547764950196086, 0.12996936]\n",
            "[0.83141085, 0.14749269, 0.029134676938640712, 0.12996936]\n",
            "[0.83141085, 0.14749269, 0.02957443273183593, 0.12996936]\n",
            "[0.83141085, 0.14749269, 0.02977312076976226, 0.12996936]\n",
            "[0.83141085, 0.14749269, 0.02998677983262745, 0.12996936]\n",
            "[0.83141085, 0.14749269, 0.029853146029866127, 0.12996936]\n",
            "[0.83141085, 0.14749269, 0.0296300637724314, 0.12996936]\n",
            "[0.83141085, 0.14749269, 0.029933917046521617, 0.12996936]\n",
            "[0.83141085, 0.14749269, 0.030121561956123276, 0.12996936]\n",
            "[0.83141085, 0.14749269, 0.030411425251743583, 0.12996936]\n",
            "[0.83141085, 0.14749269, 0.030826720119451, 0.12996936]\n",
            "[0.83141085, 0.14749269, 0.03037897544121073, 0.12996936]\n",
            "[0.83141085, 0.14749269, 0.03032299298277643, 0.12996936]\n",
            "[0.83141085, 0.14749269, 0.03034034494842921, 0.12996936]\n",
            "[0.83141085, 0.14749269, 0.030679886183436554, 0.12996936]\n",
            "[0.83141085, 0.14749269, 0.030440150568695333, 0.12996936]\n",
            "[0.83141085, 0.14749269, 0.029897643411034312, 0.12996936]\n",
            "[0.83141085, 0.14749269, 0.0302477707860205, 0.12996936]\n",
            "[0.83141085, 0.14749269, 0.0302697261591063, 0.12996936]\n",
            "[0.83141085, 0.14749269, 0.030559172455043825, 0.12996936]\n",
            "[0.83141085, 0.14749269, 0.03044313391868194, 0.12996936]\n",
            "[0.83141085, 0.14749269, 0.030134101268715983, 0.12996936]\n",
            "[0.83141085, 0.14749269, 0.030719702293511307, 0.12996936]\n",
            "[0.83141085, 0.14749269, 0.03005886431631801, 0.12996936]\n",
            "[0.83141085, 0.14749269, 0.030119720709565388, 0.12996936]\n",
            "[0.83141085, 0.14749269, 0.02959913839871, 0.12996936]\n",
            "[0.83141085, 0.14749269, 0.030008259208928155, 0.12996936]\n",
            "[0.83141085, 0.14749269, 0.02980564211023442, 0.12996936]\n",
            "[0.83141085, 0.14749269, 0.03028069482528075, 0.12996936]\n",
            "[0.83141085, 0.14749269, 0.030333928747070547, 0.12996936]\n",
            "[0.83141085, 0.14749269, 0.030875773676173356, 0.12996936]\n",
            "[0.83141085, 0.14749269, 0.031467579055545446, 0.12996936]\n",
            "[0.83141085, 0.14749269, 0.031785195094501194, 0.12996936]\n",
            "[0.83141085, 0.14749269, 0.03215350287567411, 0.12996936]\n",
            "[0.83141085, 0.14749269, 0.031827444135645, 0.12996936]\n",
            "[0.83141085, 0.14749269, 0.03250102865925577, 0.12996936]\n",
            "[0.83141085, 0.14749269, 0.03259506066163589, 0.12996936]\n",
            "[0.83141085, 0.14749269, 0.03263988435495115, 0.12996936]\n",
            "[0.83141085, 0.14749269, 0.032764184821219476, 0.12996936]\n",
            "[0.83141085, 0.14749269, 0.03260710686439119, 0.12996936]\n",
            "[0.83141085, 0.14749269, 0.032948519184658596, 0.12996936]\n",
            "[0.83141085, 0.14749269, 0.03289057800205477, 0.12996936]\n",
            "[0.83141085, 0.14749269, 0.033006323863021624, 0.12996936]\n",
            "[0.83141085, 0.14749269, 0.03326026980133314, 0.12996936]\n",
            "[0.83141085, 0.14749269, 0.03307673529846646, 0.12996936]\n",
            "[0.83141085, 0.14749269, 0.03336928438287281, 0.12996936]\n",
            "[0.83141085, 0.14749269, 0.03331606135682954, 0.12996936]\n",
            "[0.83141085, 0.14749269, 0.033330756805783256, 0.12996936]\n",
            "[0.83141085, 0.14749269, 0.032891473076718046, 0.12996936]\n",
            "[0.83141085, 0.14749269, 0.032886532859750094, 0.12996936]\n",
            "[0.83141085, 0.14749269, 0.03299236941214325, 0.12996936]\n",
            "[0.83141085, 0.14749269, 0.03265903381228121, 0.12996936]\n",
            "[0.83141085, 0.14749269, 0.032321687093401795, 0.12996936]\n",
            "[0.83141085, 0.14749269, 0.03206026606906811, 0.12996936]\n",
            "[0.83141085, 0.14749269, 0.03218256884841388, 0.12996936]\n",
            "[0.83141085, 0.14749269, 0.031986432125024965, 0.12996936]\n",
            "[0.83141085, 0.14749269, 0.03164251463434333, 0.12996936]\n",
            "[0.83141085, 0.14749269, 0.031418314644299915, 0.12996936]\n",
            "[0.83141085, 0.14749269, 0.030668764874037822, 0.12996936]\n",
            "[0.83141085, 0.14749269, 0.03129914837021055, 0.12996936]\n",
            "[0.83141085, 0.14749269, 0.03148074861795316, 0.12996936]\n",
            "[0.83141085, 0.14749269, 0.0314336456363278, 0.12996936]\n",
            "[0.83141085, 0.14749269, 0.031674326543482255, 0.12996936]\n",
            "[0.83141085, 0.14749269, 0.03162957271027402, 0.12996936]\n",
            "[0.83141085, 0.14749269, 0.03258285237873928, 0.12996936]\n",
            "[0.83141085, 0.14749269, 0.03253659068698902, 0.12996936]\n",
            "[0.83141085, 0.14749269, 0.031983631819942036, 0.12996936]\n",
            "[0.83141085, 0.14749269, 0.0317367602079073, 0.12996936]\n",
            "[0.83141085, 0.14749269, 0.03183847324956581, 0.12996936]\n",
            "[0.83141085, 0.14749269, 0.03231030032887496, 0.12996936]\n",
            "[0.83141085, 0.14749269, 0.03176571428460442, 0.12996936]\n",
            "[0.83141085, 0.14749269, 0.03223254248999432, 0.12996936]\n",
            "[0.83141085, 0.14749269, 0.0322091676103198, 0.12996936]\n",
            "[0.83141085, 0.14749269, 0.03246296022965247, 0.12996936]\n",
            "[0.83141085, 0.14749269, 0.03269059109564545, 0.12996936]\n",
            "[0.83141085, 0.14749269, 0.0324407703633667, 0.12996936]\n",
            "[0.83141085, 0.14749269, 0.03251056572165247, 0.12996936]\n",
            "[0.83141085, 0.14749269, 0.03267630535677448, 0.12996936]\n",
            "[0.83141085, 0.14749269, 0.03298288955969177, 0.12996936]\n",
            "[0.83141085, 0.14749269, 0.03288941127223801, 0.12996936]\n",
            "[0.83141085, 0.14749269, 0.03284348864375055, 0.12996936]\n",
            "[0.83141085, 0.14749269, 0.03244648602825031, 0.12996936]\n",
            "[0.83141085, 0.14749269, 0.03232136557611078, 0.12996936]\n",
            "[0.83141085, 0.14749269, 0.03295055395258963, 0.12996936]\n",
            "[0.83141085, 0.14749269, 0.03336493557120115, 0.12996936]\n",
            "[0.83141085, 0.14749269, 0.03367833688074164, 0.12996936]\n",
            "[0.83141085, 0.14749269, 0.033828626223596746, 0.12996936]\n",
            "[0.83141085, 0.14749269, 0.03440562479639333, 0.12996936]\n",
            "[0.83141085, 0.14749269, 0.03438130203406466, 0.12996936]\n",
            "[0.83141085, 0.14749269, 0.034713629157097546, 0.12996936]\n",
            "[0.83141085, 0.14749269, 0.0353639288701131, 0.12996936]\n",
            "[0.83141085, 0.14749269, 0.0361574827007032, 0.12996936]\n",
            "[0.83141085, 0.14749269, 0.03593803356173588, 0.12996936]\n",
            "[0.83141085, 0.14749269, 0.03643562378832279, 0.12996936]\n",
            "[0.83141085, 0.14749269, 0.03652412099157367, 0.12996936]\n",
            "[0.83141085, 0.14749269, 0.03690480491471384, 0.12996936]\n",
            "[0.83141085, 0.14749269, 0.03657680797599163, 0.12996936]\n",
            "[0.83141085, 0.14749269, 0.03596557264657598, 0.12996936]\n",
            "[0.83141085, 0.14749269, 0.03601067390312231, 0.12996936]\n",
            "[0.83141085, 0.14749269, 0.03556039113803557, 0.12996936]\n",
            "[0.83141085, 0.14749269, 0.03545158684622287, 0.12996936]\n",
            "[0.83141085, 0.14749269, 0.03500644969656854, 0.12996936]\n",
            "[0.83141085, 0.14749269, 0.03494922937218938, 0.12996936]\n",
            "[0.83141085, 0.14749269, 0.03487797602113709, 0.12996936]\n",
            "[0.83141085, 0.14749269, 0.034829577133252985, 0.12996936]\n",
            "[0.83141085, 0.14749269, 0.03382951899450994, 0.12996936]\n",
            "[0.83141085, 0.14749269, 0.03333513001465029, 0.12996936]\n",
            "[0.83141085, 0.14749269, 0.033299777111581295, 0.12996936]\n",
            "[0.83141085, 0.14749269, 0.033156597034151435, 0.12996936]\n",
            "[0.83141085, 0.14749269, 0.03273538911210629, 0.12996936]\n",
            "[0.83141085, 0.14749269, 0.032449128492346734, 0.12996936]\n",
            "[0.83141085, 0.14749269, 0.03192714128138754, 0.12996936]\n",
            "[0.83141085, 0.14749269, 0.03250948797406885, 0.12996936]\n",
            "[0.83141085, 0.14749269, 0.032265162801679924, 0.12996936]\n",
            "[0.83141085, 0.14749269, 0.03175834165497939, 0.12996936]\n",
            "[0.83141085, 0.14749269, 0.031356676052867204, 0.12996936]\n",
            "[0.83141085, 0.14749269, 0.031423793931510534, 0.12996936]\n"
          ]
        }
      ]
    },
    {
      "cell_type": "code",
      "metadata": {
        "colab": {
          "base_uri": "https://localhost:8080/"
        },
        "id": "o0MvgWwfP7Jn",
        "outputId": "5699d81a-353f-408f-9d84-88d2344e86fd"
      },
      "source": [
        "i_s"
      ],
      "execution_count": null,
      "outputs": [
        {
          "output_type": "execute_result",
          "data": {
            "text/plain": [
              "tensor(0.1300, requires_grad=True)"
            ]
          },
          "metadata": {},
          "execution_count": 176
        }
      ]
    },
    {
      "cell_type": "code",
      "metadata": {
        "colab": {
          "base_uri": "https://localhost:8080/",
          "height": 173
        },
        "id": "TbLZcFmYRWs0",
        "outputId": "0f8b8f0c-e4e7-4916-bd12-2ae2710a0fec"
      },
      "source": [
        "x[3] - i_s.grad.numpy()"
      ],
      "execution_count": null,
      "outputs": [
        {
          "output_type": "error",
          "ename": "AttributeError",
          "evalue": "ignored",
          "traceback": [
            "\u001b[0;31m---------------------------------------------------------------------------\u001b[0m",
            "\u001b[0;31mAttributeError\u001b[0m                            Traceback (most recent call last)",
            "\u001b[0;32m<ipython-input-171-557655faeaa8>\u001b[0m in \u001b[0;36m<module>\u001b[0;34m()\u001b[0m\n\u001b[0;32m----> 1\u001b[0;31m \u001b[0mx\u001b[0m\u001b[0;34m[\u001b[0m\u001b[0;36m3\u001b[0m\u001b[0;34m]\u001b[0m \u001b[0;34m-\u001b[0m \u001b[0mi_s\u001b[0m\u001b[0;34m.\u001b[0m\u001b[0mgrad\u001b[0m\u001b[0;34m.\u001b[0m\u001b[0mnumpy\u001b[0m\u001b[0;34m(\u001b[0m\u001b[0;34m)\u001b[0m\u001b[0;34m\u001b[0m\u001b[0;34m\u001b[0m\u001b[0m\n\u001b[0m",
            "\u001b[0;31mAttributeError\u001b[0m: 'NoneType' object has no attribute 'numpy'"
          ]
        }
      ]
    },
    {
      "cell_type": "code",
      "metadata": {
        "id": "zSU3mj8ARvVq"
      },
      "source": [
        "i_s.grad"
      ],
      "execution_count": null,
      "outputs": []
    },
    {
      "cell_type": "code",
      "metadata": {
        "id": "VCgvsAvxSYWY"
      },
      "source": [
        ""
      ],
      "execution_count": null,
      "outputs": []
    },
    {
      "cell_type": "code",
      "metadata": {
        "colab": {
          "base_uri": "https://localhost:8080/"
        },
        "id": "ImQS1bwOU-ny",
        "outputId": "8a7b4996-1b6b-47c7-861f-81b66e067087"
      },
      "source": [
        "itm[u<ps/qs].std()"
      ],
      "execution_count": null,
      "outputs": [
        {
          "output_type": "execute_result",
          "data": {
            "text/plain": [
              "tensor(0.1273)"
            ]
          },
          "metadata": {},
          "execution_count": 123
        }
      ]
    },
    {
      "cell_type": "code",
      "metadata": {
        "colab": {
          "base_uri": "https://localhost:8080/"
        },
        "id": "sSUAQXNHSw6F",
        "outputId": "41000ffc-8b80-4711-ae76-ba6319308609"
      },
      "source": [
        "getPost(0, xs[2,0],xs[2,1],xs[2,2],xs[2,3])"
      ],
      "execution_count": null,
      "outputs": [
        {
          "output_type": "execute_result",
          "data": {
            "text/plain": [
              "(tensor(0.8172), tensor(0.1410), tensor(0.0657), tensor(0.1297))"
            ]
          },
          "metadata": {},
          "execution_count": 121
        }
      ]
    },
    {
      "cell_type": "code",
      "metadata": {
        "colab": {
          "base_uri": "https://localhost:8080/"
        },
        "id": "Z2ZJXL8NT-vo",
        "outputId": "e770fa8b-e875-435e-e35b-b67c95585d6f"
      },
      "source": [
        "1/0.12"
      ],
      "execution_count": null,
      "outputs": [
        {
          "output_type": "execute_result",
          "data": {
            "text/plain": [
              "8.333333333333334"
            ]
          },
          "metadata": {},
          "execution_count": 186
        }
      ]
    },
    {
      "cell_type": "code",
      "metadata": {
        "colab": {
          "base_uri": "https://localhost:8080/"
        },
        "id": "4VAG7PfYd6-0",
        "outputId": "d477875f-c402-4102-d905-6c6e06fb299b"
      },
      "source": [
        "1/0.11"
      ],
      "execution_count": null,
      "outputs": [
        {
          "output_type": "execute_result",
          "data": {
            "text/plain": [
              "9.090909090909092"
            ]
          },
          "metadata": {},
          "execution_count": 187
        }
      ]
    },
    {
      "cell_type": "code",
      "metadata": {
        "id": "YVb3HneFd7e1"
      },
      "source": [
        ""
      ],
      "execution_count": null,
      "outputs": []
    }
  ]
}